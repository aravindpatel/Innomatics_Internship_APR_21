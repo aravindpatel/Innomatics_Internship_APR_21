{
 "cells": [
  {
   "cell_type": "markdown",
   "metadata": {},
   "source": [
    "# Power - Mod Power"
   ]
  },
  {
   "cell_type": "code",
   "execution_count": 1,
   "metadata": {},
   "outputs": [
    {
     "name": "stdout",
     "output_type": "stream",
     "text": [
      "3\n",
      "4\n",
      "5\n",
      "81\n",
      "1\n"
     ]
    }
   ],
   "source": [
    "#Question 5\n",
    "a=int(input())\n",
    "b=int(input())\n",
    "m=int(input())\n",
    "print(pow(a,b))\n",
    "print(pow(a,b,m))"
   ]
  },
  {
   "cell_type": "markdown",
   "metadata": {},
   "source": [
    "# Integers Come In All Sizes"
   ]
  },
  {
   "cell_type": "code",
   "execution_count": 2,
   "metadata": {},
   "outputs": [
    {
     "name": "stdout",
     "output_type": "stream",
     "text": [
      "9\n",
      "29\n",
      "7\n",
      "27\n",
      "4710194409608608369201743232\n"
     ]
    }
   ],
   "source": [
    "#Question 6\n",
    "a=int(input())\n",
    "b=int(input())\n",
    "c=int(input())\n",
    "d=int(input())\n",
    "print(pow(a,b)+pow(c,d))"
   ]
  },
  {
   "cell_type": "markdown",
   "metadata": {},
   "source": [
    "# Mod Divmod"
   ]
  },
  {
   "cell_type": "code",
   "execution_count": 5,
   "metadata": {},
   "outputs": [
    {
     "name": "stdout",
     "output_type": "stream",
     "text": [
      "177\n",
      "10\n",
      "17\n",
      "7\n",
      "(17, 7)\n"
     ]
    }
   ],
   "source": [
    "#Question 4\n",
    "a=int(input())\n",
    "b=int(input())\n",
    "print(a//b)\n",
    "print(a%b)\n",
    "print(divmod(a,b))"
   ]
  },
  {
   "cell_type": "markdown",
   "metadata": {},
   "source": [
    "# Polar Coordinates"
   ]
  },
  {
   "cell_type": "code",
   "execution_count": 28,
   "metadata": {},
   "outputs": [
    {
     "name": "stdout",
     "output_type": "stream",
     "text": [
      "1+2j\n",
      "2.23606797749979\n",
      "1.1071487177940904\n"
     ]
    }
   ],
   "source": [
    "#Question 1\n",
    "import cmath\n",
    "a=cmath.polar(complex(input()))\n",
    "b=list(a)\n",
    "print(b[0])\n",
    "print(b[1])"
   ]
  },
  {
   "cell_type": "markdown",
   "metadata": {},
   "source": [
    "# Triangle Quest"
   ]
  },
  {
   "cell_type": "code",
   "execution_count": 6,
   "metadata": {
    "scrolled": true
   },
   "outputs": [
    {
     "name": "stdout",
     "output_type": "stream",
     "text": [
      "8\n",
      "1\n",
      "22\n",
      "333\n",
      "4444\n",
      "55555\n",
      "666666\n",
      "7777777\n"
     ]
    }
   ],
   "source": [
    "#Question 7\n",
    "for x in range(1,int(input())):\n",
    "    a=10**(x)//9\n",
    "    print(a*x)"
   ]
  },
  {
   "cell_type": "markdown",
   "metadata": {},
   "source": [
    "# Triangle Quest 2"
   ]
  },
  {
   "cell_type": "code",
   "execution_count": 3,
   "metadata": {},
   "outputs": [
    {
     "name": "stdout",
     "output_type": "stream",
     "text": [
      "5\n",
      "1\n",
      "121\n",
      "12321\n",
      "1234321\n",
      "123454321\n"
     ]
    }
   ],
   "source": [
    "#Question 3\n",
    "for p in range(1,int(input())+1):\n",
    "    print(((10**p-1)//9)**2)"
   ]
  },
  {
   "cell_type": "markdown",
   "metadata": {},
   "source": [
    "# Find Angle MBC"
   ]
  },
  {
   "cell_type": "code",
   "execution_count": 4,
   "metadata": {},
   "outputs": [
    {
     "name": "stdout",
     "output_type": "stream",
     "text": [
      "10\n",
      "10\n",
      "45°\n"
     ]
    }
   ],
   "source": [
    "#Question 2\n",
    "import math\n",
    "pq=int(input())\n",
    "qr=int(input())\n",
    "print(str(int(round(math.degrees(math.atan2(pq,qr)))))+chr(176))"
   ]
  }
 ],
 "metadata": {
  "kernelspec": {
   "display_name": "Python 3",
   "language": "python",
   "name": "python3"
  },
  "language_info": {
   "codemirror_mode": {
    "name": "ipython",
    "version": 3
   },
   "file_extension": ".py",
   "mimetype": "text/x-python",
   "name": "python",
   "nbconvert_exporter": "python",
   "pygments_lexer": "ipython3",
   "version": "3.8.5"
  }
 },
 "nbformat": 4,
 "nbformat_minor": 4
}
