{
 "cells": [
  {
   "cell_type": "markdown",
   "metadata": {},
   "source": [
    "# Descriptive Statistics and Python Implementation😧"
   ]
  },
  {
   "cell_type": "code",
   "execution_count": 3,
   "metadata": {},
   "outputs": [],
   "source": [
    "import pandas as pd\n",
    "import numpy as np"
   ]
  },
  {
   "cell_type": "code",
   "execution_count": 4,
   "metadata": {},
   "outputs": [
    {
     "data": {
      "text/html": [
       "<div>\n",
       "<style scoped>\n",
       "    .dataframe tbody tr th:only-of-type {\n",
       "        vertical-align: middle;\n",
       "    }\n",
       "\n",
       "    .dataframe tbody tr th {\n",
       "        vertical-align: top;\n",
       "    }\n",
       "\n",
       "    .dataframe thead th {\n",
       "        text-align: right;\n",
       "    }\n",
       "</style>\n",
       "<table border=\"1\" class=\"dataframe\">\n",
       "  <thead>\n",
       "    <tr style=\"text-align: right;\">\n",
       "      <th></th>\n",
       "      <th>Mthly_HH_Income</th>\n",
       "      <th>Mthly_HH_Expense</th>\n",
       "      <th>No_of_Fly_Members</th>\n",
       "      <th>Emi_or_Rent_Amt</th>\n",
       "      <th>Annual_HH_Income</th>\n",
       "      <th>Highest_Qualified_Member</th>\n",
       "      <th>No_of_Earning_Members</th>\n",
       "    </tr>\n",
       "  </thead>\n",
       "  <tbody>\n",
       "    <tr>\n",
       "      <th>0</th>\n",
       "      <td>5000</td>\n",
       "      <td>8000</td>\n",
       "      <td>3</td>\n",
       "      <td>2000</td>\n",
       "      <td>64200</td>\n",
       "      <td>Under-Graduate</td>\n",
       "      <td>1</td>\n",
       "    </tr>\n",
       "    <tr>\n",
       "      <th>1</th>\n",
       "      <td>6000</td>\n",
       "      <td>7000</td>\n",
       "      <td>2</td>\n",
       "      <td>3000</td>\n",
       "      <td>79920</td>\n",
       "      <td>Illiterate</td>\n",
       "      <td>1</td>\n",
       "    </tr>\n",
       "    <tr>\n",
       "      <th>2</th>\n",
       "      <td>10000</td>\n",
       "      <td>4500</td>\n",
       "      <td>2</td>\n",
       "      <td>0</td>\n",
       "      <td>112800</td>\n",
       "      <td>Under-Graduate</td>\n",
       "      <td>1</td>\n",
       "    </tr>\n",
       "    <tr>\n",
       "      <th>3</th>\n",
       "      <td>10000</td>\n",
       "      <td>2000</td>\n",
       "      <td>1</td>\n",
       "      <td>0</td>\n",
       "      <td>97200</td>\n",
       "      <td>Illiterate</td>\n",
       "      <td>1</td>\n",
       "    </tr>\n",
       "    <tr>\n",
       "      <th>4</th>\n",
       "      <td>12500</td>\n",
       "      <td>12000</td>\n",
       "      <td>2</td>\n",
       "      <td>3000</td>\n",
       "      <td>147000</td>\n",
       "      <td>Graduate</td>\n",
       "      <td>1</td>\n",
       "    </tr>\n",
       "  </tbody>\n",
       "</table>\n",
       "</div>"
      ],
      "text/plain": [
       "   Mthly_HH_Income  Mthly_HH_Expense  No_of_Fly_Members  Emi_or_Rent_Amt  \\\n",
       "0             5000              8000                  3             2000   \n",
       "1             6000              7000                  2             3000   \n",
       "2            10000              4500                  2                0   \n",
       "3            10000              2000                  1                0   \n",
       "4            12500             12000                  2             3000   \n",
       "\n",
       "   Annual_HH_Income Highest_Qualified_Member  No_of_Earning_Members  \n",
       "0             64200           Under-Graduate                      1  \n",
       "1             79920               Illiterate                      1  \n",
       "2            112800           Under-Graduate                      1  \n",
       "3             97200               Illiterate                      1  \n",
       "4            147000                 Graduate                      1  "
      ]
     },
     "execution_count": 4,
     "metadata": {},
     "output_type": "execute_result"
    }
   ],
   "source": [
    "df = pd.read_csv(\"data.csv\")\n",
    "df.head()"
   ]
  },
  {
   "cell_type": "code",
   "execution_count": 51,
   "metadata": {},
   "outputs": [
    {
     "data": {
      "text/html": [
       "<div>\n",
       "<style scoped>\n",
       "    .dataframe tbody tr th:only-of-type {\n",
       "        vertical-align: middle;\n",
       "    }\n",
       "\n",
       "    .dataframe tbody tr th {\n",
       "        vertical-align: top;\n",
       "    }\n",
       "\n",
       "    .dataframe thead th {\n",
       "        text-align: right;\n",
       "    }\n",
       "</style>\n",
       "<table border=\"1\" class=\"dataframe\">\n",
       "  <thead>\n",
       "    <tr style=\"text-align: right;\">\n",
       "      <th></th>\n",
       "      <th>Mthly_HH_Income</th>\n",
       "      <th>Mthly_HH_Expense</th>\n",
       "      <th>No_of_Fly_Members</th>\n",
       "      <th>Emi_or_Rent_Amt</th>\n",
       "      <th>Annual_HH_Income</th>\n",
       "      <th>No_of_Earning_Members</th>\n",
       "    </tr>\n",
       "  </thead>\n",
       "  <tbody>\n",
       "    <tr>\n",
       "      <th>count</th>\n",
       "      <td>50.000000</td>\n",
       "      <td>50.000000</td>\n",
       "      <td>50.000000</td>\n",
       "      <td>50.000000</td>\n",
       "      <td>5.000000e+01</td>\n",
       "      <td>50.000000</td>\n",
       "    </tr>\n",
       "    <tr>\n",
       "      <th>mean</th>\n",
       "      <td>41558.000000</td>\n",
       "      <td>18818.000000</td>\n",
       "      <td>4.060000</td>\n",
       "      <td>3060.000000</td>\n",
       "      <td>4.900190e+05</td>\n",
       "      <td>1.460000</td>\n",
       "    </tr>\n",
       "    <tr>\n",
       "      <th>std</th>\n",
       "      <td>26097.908979</td>\n",
       "      <td>12090.216824</td>\n",
       "      <td>1.517382</td>\n",
       "      <td>6241.434948</td>\n",
       "      <td>3.201358e+05</td>\n",
       "      <td>0.734291</td>\n",
       "    </tr>\n",
       "    <tr>\n",
       "      <th>min</th>\n",
       "      <td>5000.000000</td>\n",
       "      <td>2000.000000</td>\n",
       "      <td>1.000000</td>\n",
       "      <td>0.000000</td>\n",
       "      <td>6.420000e+04</td>\n",
       "      <td>1.000000</td>\n",
       "    </tr>\n",
       "    <tr>\n",
       "      <th>25%</th>\n",
       "      <td>23550.000000</td>\n",
       "      <td>10000.000000</td>\n",
       "      <td>3.000000</td>\n",
       "      <td>0.000000</td>\n",
       "      <td>2.587500e+05</td>\n",
       "      <td>1.000000</td>\n",
       "    </tr>\n",
       "    <tr>\n",
       "      <th>50%</th>\n",
       "      <td>35000.000000</td>\n",
       "      <td>15500.000000</td>\n",
       "      <td>4.000000</td>\n",
       "      <td>0.000000</td>\n",
       "      <td>4.474200e+05</td>\n",
       "      <td>1.000000</td>\n",
       "    </tr>\n",
       "    <tr>\n",
       "      <th>75%</th>\n",
       "      <td>50375.000000</td>\n",
       "      <td>25000.000000</td>\n",
       "      <td>5.000000</td>\n",
       "      <td>3500.000000</td>\n",
       "      <td>5.947200e+05</td>\n",
       "      <td>2.000000</td>\n",
       "    </tr>\n",
       "    <tr>\n",
       "      <th>max</th>\n",
       "      <td>100000.000000</td>\n",
       "      <td>50000.000000</td>\n",
       "      <td>7.000000</td>\n",
       "      <td>35000.000000</td>\n",
       "      <td>1.404000e+06</td>\n",
       "      <td>4.000000</td>\n",
       "    </tr>\n",
       "  </tbody>\n",
       "</table>\n",
       "</div>"
      ],
      "text/plain": [
       "       Mthly_HH_Income  Mthly_HH_Expense  No_of_Fly_Members  Emi_or_Rent_Amt  \\\n",
       "count        50.000000         50.000000          50.000000        50.000000   \n",
       "mean      41558.000000      18818.000000           4.060000      3060.000000   \n",
       "std       26097.908979      12090.216824           1.517382      6241.434948   \n",
       "min        5000.000000       2000.000000           1.000000         0.000000   \n",
       "25%       23550.000000      10000.000000           3.000000         0.000000   \n",
       "50%       35000.000000      15500.000000           4.000000         0.000000   \n",
       "75%       50375.000000      25000.000000           5.000000      3500.000000   \n",
       "max      100000.000000      50000.000000           7.000000     35000.000000   \n",
       "\n",
       "       Annual_HH_Income  No_of_Earning_Members  \n",
       "count      5.000000e+01              50.000000  \n",
       "mean       4.900190e+05               1.460000  \n",
       "std        3.201358e+05               0.734291  \n",
       "min        6.420000e+04               1.000000  \n",
       "25%        2.587500e+05               1.000000  \n",
       "50%        4.474200e+05               1.000000  \n",
       "75%        5.947200e+05               2.000000  \n",
       "max        1.404000e+06               4.000000  "
      ]
     },
     "execution_count": 51,
     "metadata": {},
     "output_type": "execute_result"
    }
   ],
   "source": [
    "df.describe()"
   ]
  },
  {
   "cell_type": "markdown",
   "metadata": {},
   "source": [
    "## Descriptive Statistics"
   ]
  },
  {
   "cell_type": "markdown",
   "metadata": {},
   "source": [
    ">Descriptive Statistics is summarizing the data at hand through certain numbers like mean, median etc. so as to make the understanding of the data easier. It does not involve any generalization or inference beyond what is available. This means that the descriptive statistics are just the representation of the data (sample) available and not based on any theory of probability."
   ]
  },
  {
   "cell_type": "markdown",
   "metadata": {},
   "source": [
    "### Commonly Used Measures"
   ]
  },
  {
   "cell_type": "markdown",
   "metadata": {},
   "source": [
    ">1. **Measures of Central Tendency**\n",
    ">1. **Measures of Dispersion (or Variability)**"
   ]
  },
  {
   "cell_type": "markdown",
   "metadata": {},
   "source": [
    "![Alt Text](https://www.sixsigma-institute.org/sixsigma_images/areas_of_interest_for_descriptive_statistics.jpg)"
   ]
  },
  {
   "cell_type": "markdown",
   "metadata": {},
   "source": [
    "### Measures of Central Tendency"
   ]
  },
  {
   "cell_type": "markdown",
   "metadata": {},
   "source": [
    ">**Mean :** Mean is defined as the ratio of the sum of all the observations in the data to the total number of observations. This is also known as Average. Thus mean is a number around which the entire data set is spread."
   ]
  },
  {
   "cell_type": "markdown",
   "metadata": {},
   "source": [
    "$$\\mu = \\frac{1}{N}\\sum_{i=0}^{N} x_{i}$$"
   ]
  },
  {
   "cell_type": "code",
   "execution_count": 42,
   "metadata": {},
   "outputs": [
    {
     "name": "stdout",
     "output_type": "stream",
     "text": [
      "41558.0\n"
     ]
    }
   ],
   "source": [
    "#to find mean of single column\n",
    "print(df['Mthly_HH_Income'].mean())"
   ]
  },
  {
   "cell_type": "code",
   "execution_count": 6,
   "metadata": {
    "scrolled": true
   },
   "outputs": [
    {
     "name": "stdout",
     "output_type": "stream",
     "text": [
      "Mean of Mthly_HH_Income 41558.0\n",
      "Mean of Mthly_HH_Expense 18818.0\n",
      "Mean of No_of_Fly_Members 4.06\n",
      "Mean of Emi_or_Rent_Amt 3060.0\n",
      "Mean of Annual_HH_Income 490019.04\n",
      "Mean of No_of_Earning_Members 1.46\n"
     ]
    }
   ],
   "source": [
    "def mean1():\n",
    "    for i in df.columns:\n",
    "        sum=0\n",
    "        c=0\n",
    "        if df[i].dtypes!='O':\n",
    "            for j in df[i]:\n",
    "                sum+=j\n",
    "                c+=1\n",
    "            print(\"Mean of\",i,sum/c)\n",
    "mean1()"
   ]
  },
  {
   "cell_type": "markdown",
   "metadata": {},
   "source": [
    ">**Median :** Median is the point which divides the entire data into two equal halves. One-half of the data is less than the median, and the other half is greater than the same. Median is calculated by first arranging the data in either ascending or descending order.\n",
    "\n",
    ">* If the number of observations are odd, median is given by the middle observation in the sorted form.\n",
    ">* If the number of observations are even, median is given by the mean of the two middle observation in the sorted form."
   ]
  },
  {
   "cell_type": "markdown",
   "metadata": {},
   "source": [
    "$$\n",
    "Median = \\left\\{\n",
    "    \\begin{array}\\\\\n",
    "        \\frac{(N+1)}{2} & \\mbox{if N is Odd } \\\\\n",
    "        \\frac{\\frac{N}{2}+\\frac{(N+1)}{2}}{2} & \\mbox{if N is Even} \\\\       \n",
    "    \\end{array}\n",
    "\\right.\n",
    "$$"
   ]
  },
  {
   "cell_type": "code",
   "execution_count": 43,
   "metadata": {},
   "outputs": [
    {
     "name": "stdout",
     "output_type": "stream",
     "text": [
      "35000.0\n"
     ]
    }
   ],
   "source": [
    "# to find median of single column\n",
    "print(df['Mthly_HH_Income'].median())"
   ]
  },
  {
   "cell_type": "code",
   "execution_count": 32,
   "metadata": {},
   "outputs": [
    {
     "name": "stdout",
     "output_type": "stream",
     "text": [
      "Median of Mthly_HH_Income 35000.0\n",
      "Median of Mthly_HH_Expense 15500.0\n",
      "Median of No_of_Fly_Members 4.0\n",
      "Median of Emi_or_Rent_Amt 0.0\n",
      "Median of Annual_HH_Income 447420.0\n",
      "Median of No_of_Earning_Members 1.0\n"
     ]
    }
   ],
   "source": [
    "from collections import Counter\n",
    "for x in df.columns:\n",
    "    m=len(df[x])\n",
    "    n=sorted(df[x])\n",
    "    if df[x].dtypes!=\"O\":\n",
    "        if m%2==0:\n",
    "            print(\"Median of\",x,(n[(m-1)//2]+n[m//2])/2)\n",
    "        else:\n",
    "            print(\"Median of \",x,(n[i][n]))"
   ]
  },
  {
   "cell_type": "markdown",
   "metadata": {},
   "source": [
    ">**Mode :** Mode is the number which has the maximum frequency in the entire data set, or in other words,mode is the number that appears the maximum number of times. A data can have one or more than one mode."
   ]
  },
  {
   "cell_type": "code",
   "execution_count": 44,
   "metadata": {},
   "outputs": [
    {
     "name": "stdout",
     "output_type": "stream",
     "text": [
      "0    45000\n",
      "dtype: int64\n"
     ]
    }
   ],
   "source": [
    "#to find mode of a single colomn use\n",
    "print(df['Mthly_HH_Income'].mode())"
   ]
  },
  {
   "cell_type": "code",
   "execution_count": 8,
   "metadata": {},
   "outputs": [
    {
     "name": "stdout",
     "output_type": "stream",
     "text": [
      "mode is : 45000\n",
      "mode is : 25000\n",
      "mode is : 4\n",
      "mode is : 0\n",
      "mode is : 590400\n",
      "mode is : Graduate\n",
      "mode is : 1\n"
     ]
    }
   ],
   "source": [
    "from collections import Counter\n",
    "for i in df.columns:\n",
    "    n = len(df[i])\n",
    "    data = Counter(df[i])\n",
    "    get_mode = dict(data)\n",
    "    mode = [k for k , v in get_mode.items() if v == max(list(data.values()))]\n",
    "\n",
    "    if len(mode) == n:\n",
    "        get_mode = \"no mode found\"\n",
    "    else:\n",
    "        get_mode = \"mode is : \" + ','.join(map(str,mode))\n",
    "\n",
    "    print(get_mode)"
   ]
  },
  {
   "cell_type": "markdown",
   "metadata": {},
   "source": [
    "### Measures of Dispersion (or Variability)"
   ]
  },
  {
   "cell_type": "markdown",
   "metadata": {},
   "source": [
    ">**Variance :**Variance measures how far are data points spread out from the mean. A high variance indicates that data points are spread widely and a small variance indicates that the data points are closer to the mean of the data set."
   ]
  },
  {
   "cell_type": "markdown",
   "metadata": {},
   "source": [
    "$$\\sigma^2 = \\frac{1}{N}\\sum_{i=0}^{N} (x_{i}-{\\bar x})^2$$"
   ]
  },
  {
   "cell_type": "code",
   "execution_count": 45,
   "metadata": {},
   "outputs": [
    {
     "name": "stdout",
     "output_type": "stream",
     "text": [
      "681100853.0612245\n"
     ]
    }
   ],
   "source": [
    "#to find Variance of a single colomn use\n",
    "print(df['Mthly_HH_Income'].var())"
   ]
  },
  {
   "cell_type": "code",
   "execution_count": 9,
   "metadata": {},
   "outputs": [
    {
     "name": "stdout",
     "output_type": "stream",
     "text": [
      "Variance of  Mthly_HH_Income is  681100853.0612245\n",
      "Variance of  Mthly_HH_Expense is  146173342.85714287\n",
      "Variance of  No_of_Fly_Members is  2.302448979591837\n",
      "Variance of  Emi_or_Rent_Amt is  38955510.20408163\n",
      "Variance of  Annual_HH_Income is  102486925397.91666\n",
      "Variance of  No_of_Earning_Members is  0.5391836734693878\n"
     ]
    }
   ],
   "source": [
    "for i in df.columns:\n",
    "    if df[i].dtypes != 'O':\n",
    "        mean=df[i].mean()\n",
    "        sum=0\n",
    "        for j in df[i]:\n",
    "            sum=sum+(j-mean)**2\n",
    "            variance=sum/(len(df[i])-1)\n",
    "        print(\"Variance of \",i,\"is \",variance)"
   ]
  },
  {
   "cell_type": "markdown",
   "metadata": {},
   "source": [
    ">**Standard Deviation :** The square root of Variance is called the Standard Deviation"
   ]
  },
  {
   "cell_type": "markdown",
   "metadata": {},
   "source": [
    "$$\\sigma = \\sqrt{\\frac{1}{N}\\sum_{i=0}^{N} (x_{i}-{\\bar x})^2}$$"
   ]
  },
  {
   "cell_type": "code",
   "execution_count": 46,
   "metadata": {},
   "outputs": [
    {
     "name": "stdout",
     "output_type": "stream",
     "text": [
      "26097.908978713687\n"
     ]
    }
   ],
   "source": [
    "#to find Standard deviation of a single colomn use\n",
    "print(df['Mthly_HH_Income'].std())"
   ]
  },
  {
   "cell_type": "code",
   "execution_count": 10,
   "metadata": {},
   "outputs": [
    {
     "name": "stdout",
     "output_type": "stream",
     "text": [
      "Standard deviation of  Mthly_HH_Income is  26097.908978713687\n",
      "Standard deviation of  Mthly_HH_Expense is  12090.216824240286\n",
      "Standard deviation of  No_of_Fly_Members is  1.5173822786601394\n",
      "Standard deviation of  Emi_or_Rent_Amt is  6241.434947516607\n",
      "Standard deviation of  Annual_HH_Income is  320135.79212252516\n",
      "Standard deviation of  No_of_Earning_Members is  0.7342912729083656\n"
     ]
    }
   ],
   "source": [
    "import math\n",
    "for i in df.columns:\n",
    "    if df[i].dtypes != 'O':\n",
    "        mean=df[i].mean()\n",
    "        sum=0\n",
    "        for j in df[i]:\n",
    "            sum=sum+(j-mean)**2\n",
    "            variance=sum/(len(df[i])-1)\n",
    "            std = math.sqrt(variance)\n",
    "        print(\"Standard deviation of \",i,\"is \",std)"
   ]
  },
  {
   "cell_type": "markdown",
   "metadata": {},
   "source": [
    "### Correlation"
   ]
  },
  {
   "cell_type": "markdown",
   "metadata": {},
   "source": [
    ">A correlation is a statistical measure of the relationship between two variables. The measure is best used in variables that demonstrate a linear relationship between each other. The fit of the data can be visually represented in a scatterplot.\n",
    "\n",
    ">The correlation coefficient is a value that indicates the strength of the relationship between variables. The coefficient can take any values from -1 to 1. The interpretations of the values are:\n",
    "\n",
    ">* -1: Perfect negative correlation. The variables tend to move in opposite directions (i.e., when one variable increases, the other variable decreases).\n",
    ">* 0: No correlation. The variables do not have a relationship with each other.\n",
    ">* 1: Perfect positive correlation. The variables tend to move in the same direction (i.e., when one variable increases, the other variable also increases)."
   ]
  },
  {
   "cell_type": "markdown",
   "metadata": {},
   "source": [
    "$$r_{xy} = \\frac{{\\sum{(x_{i}-{\\bar x})(y_{i}-{\\bar y})}}}{{\\sum{(x_{i}-{\\bar x})^2}{\\sum(y_{i}-{\\bar y})^2}}}$$"
   ]
  },
  {
   "cell_type": "markdown",
   "metadata": {},
   "source": [
    "![Alt Text](https://www.simplypsychology.org/correlation.jpg?ezimgfmt=rs:535x378/rscb24/ng:webp/ngcb24 \"Optional Title\")\n"
   ]
  },
  {
   "cell_type": "markdown",
   "metadata": {},
   "source": [
    "![Alt Text](https://www.mathsisfun.com/data/images/correlation-examples.svg \"Correlation\")"
   ]
  },
  {
   "cell_type": "code",
   "execution_count": 11,
   "metadata": {},
   "outputs": [],
   "source": [
    "def mean_fun(a):\n",
    "    sum = 0\n",
    "    n = 0\n",
    "    for j in a:\n",
    "        sum = sum+j\n",
    "        n =n+1\n",
    "    return (sum/n)"
   ]
  },
  {
   "cell_type": "code",
   "execution_count": 12,
   "metadata": {},
   "outputs": [],
   "source": [
    "import math\n",
    "def std_fun(a):\n",
    "    sum = 0\n",
    "    b = mean_fun(a)\n",
    "    for j in a:\n",
    "        sum = sum + ((j-b)**2)\n",
    "    return (math.sqrt(sum/len(df)))"
   ]
  },
  {
   "cell_type": "code",
   "execution_count": 13,
   "metadata": {},
   "outputs": [],
   "source": [
    "def covariance_f(a,b):\n",
    "    sum = 0\n",
    "    x = mean_fun(a)\n",
    "    y = mean_fun(b)\n",
    "    for i in range(len(a)):\n",
    "        sum = sum + ((a[i]-x)*(b[i]-y))\n",
    "    return sum/len(a)\n"
   ]
  },
  {
   "cell_type": "code",
   "execution_count": 14,
   "metadata": {},
   "outputs": [
    {
     "data": {
      "text/plain": [
       "200749556.0"
      ]
     },
     "execution_count": 14,
     "metadata": {},
     "output_type": "execute_result"
    }
   ],
   "source": [
    "covariance_f(df['Mthly_HH_Income'],df['Mthly_HH_Expense'])"
   ]
  },
  {
   "cell_type": "code",
   "execution_count": 15,
   "metadata": {},
   "outputs": [],
   "source": [
    "def correlation_fun(a,b):\n",
    "    return covariance_f(a,b)/(std_fun(a)*std_fun(b))"
   ]
  },
  {
   "cell_type": "code",
   "execution_count": 16,
   "metadata": {},
   "outputs": [
    {
     "name": "stdout",
     "output_type": "stream",
     "text": [
      "correlation between Mthly_HH_Income Mthly_HH_Expenseis 0.6492152549316462\n",
      "correlation between Mthly_HH_Income No_of_Fly_Membersis 0.4483173135943263\n",
      "correlation between Mthly_HH_Income Emi_or_Rent_Amtis 0.03697611093890592\n",
      "correlation between Mthly_HH_Income Annual_HH_Incomeis 0.9703154166603717\n",
      "correlation between Mthly_HH_Income No_of_Earning_Membersis 0.34788345602238374\n"
     ]
    }
   ],
   "source": [
    "l1 = []\n",
    "for i in df.columns:\n",
    "    if df[i].dtypes != 'O':\n",
    "        l1.append(i)\n",
    "a = l1[0]\n",
    "for i in l1:\n",
    "    if(a!=i):\n",
    "        print(\"correlation between\",a, i +\"is\",correlation_fun(df[a],df[i]))"
   ]
  },
  {
   "cell_type": "markdown",
   "metadata": {},
   "source": [
    "### Normal Distribution"
   ]
  },
  {
   "cell_type": "markdown",
   "metadata": {},
   "source": [
    "> The normal distribution is a continuous probability distribution that is symmetrical on both sides of the mean, so the right side of the center is a mirror image of the left side.\n",
    "\n",
    "> The normal distribution is often called the bell curve because the graph of its probability density looks like a bell."
   ]
  },
  {
   "cell_type": "markdown",
   "metadata": {},
   "source": [
    "## $$f(x) = \\frac{1}{\\sigma\\sqrt{(2\\pi)}}e^{-\\frac{1}{2}(\\frac{x-\\mu}{\\sigma})^2}$$"
   ]
  },
  {
   "cell_type": "markdown",
   "metadata": {},
   "source": [
    "> #### All forms of (normal) distribution share the following characteristics:\n",
    ">* It is symmetric. A normal distribution comes with a perfectly symmetrical shape.\n",
    ">* The mean, median, and mode are equal. \n",
    ">* Empirical rule. \n",
    ">* Skewness and kurtosis."
   ]
  },
  {
   "cell_type": "markdown",
   "metadata": {},
   "source": [
    "![Alt Text](https://qph.fs.quoracdn.net/main-qimg-f5d9ab6893805c8bd9321ade02a13021)"
   ]
  },
  {
   "cell_type": "markdown",
   "metadata": {},
   "source": [
    "### Features of Normal Distribution"
   ]
  },
  {
   "cell_type": "markdown",
   "metadata": {},
   "source": [
    ">### 1. It is symmetric\n",
    "A normal distribution comes with a perfectly symmetrical shape. This means that the distribution curve can be divided in the middle to produce two equal halves. The symmetric shape occurs when one-half of the observations fall on each side of the curve.\n",
    "\n",
    ">### 2. The mean, median, and mode are equal\n",
    "The middle point of a normal distribution is the point with the maximum frequency, which means that it possesses the most observations of the variable. The midpoint is also the point where these three measures fall. The measures are usually equal in a perfectly (normal) distribution.\n",
    "\n",
    ">### 3. Empirical rule\n",
    "In normally distributed data, there is a constant proportion of distance lying under the curve between the mean and specific number of standard deviations from the mean. For example, 68.25% of all cases fall within +/- one standard deviation from the mean. 95% of all cases fall within +/- two standard deviations from the mean, while 99% of all cases fall within +/- three standard deviations from the mean.\n",
    "\n",
    ">### 4. Skewness and kurtosis\n",
    "Skewness and kurtosis are coefficients that measure how different a distribution is from a normal distribution. Skewness measures the symmetry of a normal distribution while kurtosis measures the thickness of the tail ends relative to the tails of a normal distribution."
   ]
  },
  {
   "cell_type": "markdown",
   "metadata": {},
   "source": [
    "### Positively Skewed"
   ]
  },
  {
   "cell_type": "markdown",
   "metadata": {},
   "source": [
    ">Positively Skewed Distribution is a type of distribution where the mean, median and mode of the distribution are positive rather than negative or zero i.e., data distribution occurs more on the one side of the scale with long tail on the right side. It is also known as the right-skewed distribution, where the mean is generally there to the right side of the median of the data."
   ]
  },
  {
   "cell_type": "markdown",
   "metadata": {},
   "source": [
    "![Alt Text](https://miro.medium.com/max/555/1*d318NxKHGZgWTHvKjbzJ_g.jpeg)"
   ]
  },
  {
   "cell_type": "markdown",
   "metadata": {},
   "source": [
    ">### Here you can see the positions of all the three measures on the plot. So, you will find that:\n",
    ">* mean greater than the mode\n",
    ">* median greater than the mode\n",
    ">* mean greater than median"
   ]
  },
  {
   "cell_type": "markdown",
   "metadata": {},
   "source": [
    "### Negatively Skewed"
   ]
  },
  {
   "cell_type": "markdown",
   "metadata": {},
   "source": [
    ">Negatively skewed distribution refers to the distribution type where the more values are plotted on the right side of the graph, where the tail of the distribution is longer on the left side and the mean is lower than the median and mode which it might be zero or negative due to the nature of the data as negatively distributed."
   ]
  },
  {
   "cell_type": "markdown",
   "metadata": {},
   "source": [
    "![Alt Text](https://miro.medium.com/max/576/1*zMSuf2Y_DFjdQzMrKU-oGQ.jpeg)"
   ]
  },
  {
   "cell_type": "markdown",
   "metadata": {},
   "source": [
    ">### Here you can see three measures position on the plot. So, you will find that:\n",
    ">* mean less than the mode\n",
    ">* median less than the mode\n",
    ">* mean less than median"
   ]
  },
  {
   "cell_type": "markdown",
   "metadata": {},
   "source": [
    "### Effect on Mean, Median and Mode due to Skewness"
   ]
  },
  {
   "cell_type": "markdown",
   "metadata": {},
   "source": [
    "> In a positively skewed distribution the outliers will be pulling the mean down the scale a great deal. The median might be slightly lower due to the outlier, but the mode will be unaffected. Thus, with a negatively skewed distribution the mean is numerically lower than the median or mode"
   ]
  },
  {
   "cell_type": "markdown",
   "metadata": {},
   "source": [
    "# QQ Plot and show the implementation of the same"
   ]
  },
  {
   "cell_type": "markdown",
   "metadata": {},
   "source": [
    ">The **quantile-quantile (q-q)** plot is a graphical technique for determining if two data sets come from populations with a common distribution. A q-q plot is a plot of the quantiles of the first data set against the quantiles of the second data set.  \n",
    ">* The normal distribution is symmetric, so it has no skew (the mean is equal to the median). On a Q-Q plot normally distributed data appears as roughly a straight line (although the ends of the Q-Q plot often start to deviate from the straight line)."
   ]
  },
  {
   "cell_type": "code",
   "execution_count": 18,
   "metadata": {},
   "outputs": [
    {
     "data": {
      "image/png": "[encoded data removed]",
      "text/plain": [
       "<Figure size 432x288 with 1 Axes>"
      ]
     },
     "metadata": {
      "needs_background": "light"
     },
     "output_type": "display_data"
    }
   ],
   "source": [
    "from scipy import stats\n",
    "import matplotlib.pyplot as plt\n",
    "stats.probplot(df['Annual_HH_Income'],dist=\"norm\", plot=plt)\n",
    "plt.grid()"
   ]
  },
  {
   "cell_type": "markdown",
   "metadata": {},
   "source": [
    "#  Box Cox and show the implementation of the same"
   ]
  },
  {
   "cell_type": "markdown",
   "metadata": {},
   "source": [
    ">Boxcox for performing box-cox power transformation that takes in original non-normal data as input and returns fitted data along with the lambda value that was used to fit the non-normal distribution to normal distribution"
   ]
  },
  {
   "cell_type": "markdown",
   "metadata": {},
   "source": [
    "![alt text](https://media.geeksforgeeks.org/wp-content/uploads/20200531232546/output275.png)"
   ]
  },
  {
   "cell_type": "code",
   "execution_count": 26,
   "metadata": {},
   "outputs": [],
   "source": [
    "#implementation"
   ]
  },
  {
   "cell_type": "code",
   "execution_count": 39,
   "metadata": {
    "scrolled": true
   },
   "outputs": [
    {
     "name": "stdout",
     "output_type": "stream",
     "text": [
      "0.24689401204475175\n"
     ]
    }
   ],
   "source": [
    "l,bcx=stats.boxcox(df['Annual_HH_Income'])\n",
    "print(bcx)"
   ]
  },
  {
   "cell_type": "code",
   "execution_count": 40,
   "metadata": {
    "scrolled": true
   },
   "outputs": [
    {
     "data": {
      "text/plain": [
       "((array([-2.20385432, -1.83293478, -1.61402323, -1.45296849, -1.32267759,\n",
       "         -1.21163342, -1.113805  , -1.02561527, -0.94475674, -0.86964726,\n",
       "         -0.79915021, -0.73241807, -0.66879925, -0.6077796 , -0.54894415,\n",
       "         -0.49195112, -0.43651377, -0.38238727, -0.32935914, -0.27724191,\n",
       "         -0.2258675 , -0.17508277, -0.12474591, -0.07472335, -0.02488719,\n",
       "          0.02488719,  0.07472335,  0.12474591,  0.17508277,  0.2258675 ,\n",
       "          0.27724191,  0.32935914,  0.38238727,  0.43651377,  0.49195112,\n",
       "          0.54894415,  0.6077796 ,  0.66879925,  0.73241807,  0.79915021,\n",
       "          0.86964726,  0.94475674,  1.02561527,  1.113805  ,  1.21163342,\n",
       "          1.32267759,  1.45296849,  1.61402323,  1.83293478,  2.20385432]),\n",
       "  array([ 58.24293824,  61.70421582,  64.96005249,  67.54329643,\n",
       "          72.38061027,  74.8726426 ,  78.06452764,  79.99898498,\n",
       "          80.27429016,  80.45631493,  82.63682662,  82.74154791,\n",
       "          83.76816466,  84.01918284,  85.43373762,  85.54779027,\n",
       "          86.49614249,  88.33444513,  89.30376688,  90.50199598,\n",
       "          90.72657533,  92.90283223,  94.57352744,  95.9931235 ,\n",
       "          96.44403585,  96.66387724,  97.07299782,  97.58063085,\n",
       "          97.74170871,  98.77957982,  99.73801878, 100.54618018,\n",
       "         102.14155259, 102.7519479 , 103.29180245, 103.68321618,\n",
       "         103.68321618, 103.94176841, 104.13978804, 104.56419889,\n",
       "         104.95754123, 106.16277043, 110.46438804, 115.02638068,\n",
       "         119.61016545, 120.86854236, 122.75237322, 123.02769681,\n",
       "         127.3578882 , 129.37478968])),\n",
       " (16.916916961744185, 94.87689176846463, 0.9930487743171237))"
      ]
     },
     "execution_count": 40,
     "metadata": {},
     "output_type": "execute_result"
    },
    {
     "data": {
      "image/png": "[encoded data removed]",
      "text/plain": [
       "<Figure size 432x288 with 1 Axes>"
      ]
     },
     "metadata": {
      "needs_background": "light"
     },
     "output_type": "display_data"
    }
   ],
   "source": [
    "stats.probplot(l,dist='norm',plot=plt)"
   ]
  },
  {
   "cell_type": "markdown",
   "metadata": {},
   "source": [
    ">## comapring both the plots..thus we can say boxcox has transformed non normal data into normal data"
   ]
  },
  {
   "cell_type": "markdown",
   "metadata": {},
   "source": [
    "![alt](data:image/png;base64,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) \n",
    "![alt](data:image/png;base64,iVBORw0KGgoAAAANSUhEUgAAAYUAAAEWCAYAAACJ0YulAAAAOXRFWHRTb2Z0d2FyZQBNYXRwbG90bGliIHZlcnNpb24zLjMuMiwgaHR0cHM6Ly9tYXRwbG90bGliLm9yZy8vihELAAAACXBIWXMAAAsTAAALEwEAmpwYAAAxLUlEQVR4nO3dd3yUVfbH8c8BsUQFpehaIKiLShFRY8G1l5+9l9XFVVeKvXfZtaPYO7IICGrEviqiKKKCqwIGFqXpygIBFAVBFEWl5Pz+uM+EIUySScjkmUm+79crr5l5yjwno8zJfe6955q7IyIiAtAg7gBERCR7KCmIiEgpJQURESmlpCAiIqWUFEREpJSSgoiIlFJSkHrJzNzM/ljNc2eZ2SHl7NvXzL5MdayZ3WBm/asXcZXiO8DM5mb6OlI3KSlIzoi+YH81s5/N7Dsze9LMNoo7rmTu/qG771DOvjvcvRuAmbWOEtM61bmOmZ1tZiujz+InM5toZkdX430Gmdnt1YlB6iYlBck1x7j7RsCuwO7A38seUN0v2hz0SfRZbAIMAF4ws6bxhiS5TklBcpK7fw28BXSA0ttBF5rZV8BX0bbuZjbdzBaZ2etmtmWZtznSzGaY2fdmdo+ZNYjO287M3jOzhdG+QjPbpMy5u5vZVDP7IWqxrB+dW+6tGzO72cyeiV6Ojh4XR3/t7x/FuVPS8ZtFLaMWlXwWJcBAYANg2xTXbWtmH5jZYjObYmbHRtt7AF2Aa6IYhlZ0HakflBQkJ5lZS+BI4D9Jm48H9gTamdlBwJ3AqcAWQDHwXJm3OQEoILQ6jgPOSbx9dO6WQFugJXBzmXO7AIcB2wHbk6LFUon9osdN3H0jdx8VxXdG0jGnA++6+4KK3ihqGXUDfiZKiEn7GgFDgXeAzYCLgUIz28Hd+wGFwN1RDMdU8XeQOkhJQXLNq2a2GPg3MAq4I2nfne6+yN1/JXxpD3T3Ce7+O3A90NnMWicdf1d0/GzgQcKXMO4+3d1HuPvv0Rfy/cD+ZeJ41N3nuPsioFfi3LU0GPhLosUC/BV4uoLj94o+i2+j65/g7j+WPQbYCOjt7svc/T3gjRqKV+qg+nLvVeqO49393XL2zUl6viUwIfHC3X82s4XAVsCsFMcXR+dgZpsBDwP7AhsT/nj6oYJrlZ67Ntx9rJn9AuxvZvOAPwKvV3DKGHffp5K33RKYE91iSigmfA4ia1BLQeqS5JK/3wD5iRdmtiHQDPg66ZiWSc9bRedAuHXkQEd3b0y4pWNlrlXeudWJNdng6Hp/BV5y99+q+L5lfQO0TGp9QIg38TmoTLKsRklB6qpngb+ZWSczW49wm2msu89KOuZqM9s06p+4FHg+2r4x4f78YjPbCrg6xftfaGZbR6N9bkg6N10LgBLW7Bh+mtDXcQbwVBXfM5WxwC+EzuRGZnYAcAyr+le+SxGD1GNKClInuftI4B/Ay8A8QofwaWUOew0YD0wEhhGGdQLcQuh8/jHa/kqKSzxL6LydEf1Uaay/uy8l9EV8FI0K2ivaPpdw28uBD6vynuVcZxlwLHAE8D3QBzjT3b+IDhlA6JhfbGavru31JPeZFtkRyS5mNhD4xt2rOqJJZK2po1kki0Sjo04Edok5FKmndPtIJEuY2W3AZOAed58ZdzxSP+n2kYiIlFJLQURESuV0n0Lz5s29devWcYchIpJTxo8f/727p6ypldNJoXXr1hQVFcUdhohITjGz4vL26faRiIiUUlIQEZFSSgoiIlJKSUFEREopKYiISCklBRERKaWkICIipZQURERyiTsMGABDh2bk7ZUURERyxYwZcMgh0K0bFBZm5BJKCiIi2W7lSnjwQdhpJ/j0U+jbF559NiOXyukyFyIidd6UKdC1K4wdC0cdFRLC1ltn7HIZaymY2UAzm29mk5O23WZmn5vZRDN7x8y2TNp3vZlNN7MvzeywTMUlIpITli2DW2+FXXaB//0vtAyGDs1oQoDM3j4aBBxeZts97t7R3TsBbwA3AphZO8L6ue2jc/qYWcMMxiYikr0+/RQKCuCmm+Dkk2HqVDj9dDDL+KUzlhTcfTSwqMy2n5JebkhYnBzgOOA5d/89WnFqOrBHpmITEclKS5fC1VfDXnvBokXw+uuhhdBiVZXrwkJo3RoaNAiPNd3fXOt9CmbWCzgT+BE4MNq8FTAm6bC50bZU5/cAegC0atUqc4GKiNSmDz6A7t1h+nQ491y46y5o0mS1QwoLoUePkDsAiovDa4AuXWomjFoffeTuPd29JVAIXBRtTtUmSrlOqLv3c/cCdy9o0SLlGhEiIrnjxx/hvPPgwAPDHIT33gudyWUSAkDPnqsSQsLSpWF7TYlzSOqzwEnR87lAy6R9WwPf1HpEIiK16Y03oH17eOIJuOoq+PzzkBzKMXt21bZXR60mBTNrk/TyWOCL6PnrwGlmtp6ZbQO0AcbVZmwiIrVmwQL4y1/gmGNg003hk0/gnnsgL6/C08q7Y16Td9IzOSR1CPAJsIOZzTWzrkBvM5tsZp8D/wdcCuDuU4AXgKnAcOBCd1+ZqdhERGpaWh3A7jBkCLRrBy+9BLfcAuPHwx7pjavp1WvNvJGXF7bXGHfP2Z/ddtvNRUTi9swz7nl57uFbP/zk5YXtpebMcT/66LBzjz3cJ02q9rXy893NwuNq10gTUOTlfK9a2J+bCgoKvKioKO4wRKSea906jAQqKz8fZs0ogf79w1DT5cvDn/WXXAIN45uKZWbj3b0g1T6VuRARWUvldfQ2Kp4OB3cPw00POih0KG+7ba3GVlUqiCcispbKdvQ2ZAVXci+TbCeYMCEkg3ffzfqEAEoKIiJrLbkDuAOT+Ji9uZerWbDL/4USFd261UqJipqg20ciImupSxdosPx3vrvsTi748Q5+arAJ/77gOfZ5+NScSQYJSgoiImtr7FhOv7cr/DgFunSh+YMPsk/z5nFHVS26fSQiUl2//AJXXAGdO4dyFcOGwTPPQI4mBFBLQUSkekaODAXsZs6E88+H3r2hceO4o1praimIiFTF4sUhGRxyCKyzDowaBX361ImEAEoKIiKlKi1V8dproUTFwIFwzTXw2Wew334xRJo5SgoiUqeluyhNYq2C4uJQqCKxVkFhITB/Ppx2Ghx/fFjwZuzYsN7BBhvU3i9SS9SnICJ1VlUWpUm9VoHz6aWFdPFL4eef4fbbQwuhUaPMBx8TtRREpM6qyqI0ZUtVtGQ2wziKBxf+FXbYASZODCfW4YQASgoiUodVZVGaRKkKo4TzeJwptGd/RnHzpg/Bhx9C27aZCzSLKCmISJ1VlUVpevWCjuv/lw84gMe5gE/ozO7rT6bNI/FWNK1tSgoikrMq60ROe1GaFSvoMvcuJqzsyM4NJnEOA+nR6m169t9mjb6Huk4dzSKSk9LpRE489uwZbhm1ahUSwmpf9J99BuecAxMm0PCEE2jy2GMM3GKLWvs9sk0ml+McaGbzzWxy0rZ7zOwLM/vczP5lZpsk7bvezKab2Zdmdlim4hKRuiHdTuQuXWDWLCgpCY+lCeG33+Dvf4eCAvj667A85iuvQD1OCJDZ20eDgMPLbBsBdHD3jsB/gesBzKwdcBrQPjqnj5nVn5t4IlJlVelEXsPHH8Muu6xqNkydCiedVKPx5aqMJQV3Hw0sKrPtHXdfEb0cA2wdPT8OeM7df3f3mcB0IL2VrEWkzqqoz6Aqncilfv4ZLr0U9tknNCuGD4dBg6Bp05oLOsfF2dF8DvBW9HwrYE7SvrnRtjWYWQ8zKzKzogULFmQ4RBGJS4UzjKlCJ3LCO+9Ahw7wyCNw4YUweTIcpjvVZcWSFMysJ7ACSOT9VKtQeKpz3b2fuxe4e0GLFi0yFaKIxKyyPoMuXaBfP8jPD+vY5OeH12uMFvrhh9CRfNhhsP76MHp0SAwbb1wrv0euqfXRR2Z2FnA0cLC7J7745wItkw7bGvimtmMTkeyRTp9Bly4pkkCyV14JrYIFC+D66+HGG0NikHLVakvBzA4HrgWOdffkvwFeB04zs/XMbBugDTCuNmMTkexSrT6DhG+/hZNPDp3Hf/gDfPop3HGHEkIaMjkkdQjwCbCDmc01s67Ao8DGwAgzm2hmfQHcfQrwAjAVGA5c6O4rMxWbiGS/KvcZQOh8GDw4lLd+442QCMaNCyONJC226g5O7ikoKPCioqK4wxCRDCksrGTiWbLiYjj3XHj7bfjTn6B/f9hxx1qNN1eY2Xh3L0i1TzOaRSRrVdpnAGFWWp8+cN114fUjj8AFF4RxrFJlSgoikru+/BK6doWPPgqji/75zzAMSapNqVREcs/y5XDnnbDzzmE28qBB8NZbSgg1QC0FEckt//lPmHcwcWIYYfToo7D55nFHVWeopSAiueG338Jcg913D0NOX34ZXnxRCaGGKSmISOwqWxeBf/873Crq3RvOPDPcMjrxxBgirfuUFEQkVhXWOFqyBC6+GPbbD5YtC/WLBg6ETTeNO+w6S0lBRGJVXo2jd64YHgrYPfZYSAyTJsGhh8YTZD2ijmYRiVXZGkdNWcj9XMFZ85+Ctm3DcNPOneMJrh5SS0FEYrWqlpFzEi8xlXb8hWd5uMnfw0gjJYRapaQgIrHq1Qu23WAeL3MSL3EKc2jJvusX0eyx22C99eIOr95RUhCR+LjTZdmTTLV2HGlvcS138edWY7i4/86Vl7eQjFCfgojEY+bMMMzo3XdZb7/94IknuGv77bkr7rjqObUURKR2rVwJDz8cRhaNHQuPPw7vvw/bbx93ZIJaCiJSm6ZOhW7d4JNP4IgjQgG7li0rP09qjVoKIpJ5y5fD7beHxW6+/BKefhqGDVNCyEJqKYhIZo0fHwrYff45nHYaPPQQbLZZ3FFJOdRSEJHM+PVXuPZa2GMP+P57ePVVCo8eQus9Niu/xpHELpNrNA80s/lmNjlp2ylmNsXMSsysoMzx15vZdDP70swOy1RcIlILRo0KBezuvjssgjNlCoU/H1d+jSPJGplsKQwCDi+zbTJwIjA6eaOZtQNOA9pH5/Qxs4YZjE1EMuGnn+D88+GAA8Ioo5EjoV8/2GSTcmsc9ewZS6RSjowlBXcfDSwqs22au3+Z4vDjgOfc/Xd3nwlMB/bIVGwikgFvvgnt24ckcMUVoQ/hoINKd5etcVTZdolHtvQpbAXMSXo9N9q2BjPrYWZFZla0YMGCWglORCrw/fdwxhlw1FHQuDF8/DHcdx9suOFqh62qcURa2yUe2ZIULMU2T3Wgu/dz9wJ3L2jRokWGwxKRcrnD889Du3bh8aabYMIE2HPPlIf36gV5eatvy8sL2yV7ZEtSmAskD1jeGvgmplhEpDLffAPHHx+GmObnh2Rw880VFrDr0iXcWcrPB7Pw2K8fqnGUZaqUFMysgZk1zkAcrwOnmdl6ZrYN0AYYl4HriMjacIf+/UPr4J134N57w+zknXZK6/QuXWDWLCgpCY9KCNmn0qRgZs+aWWMz2xCYCnxpZlencd4Q4BNgBzOba2ZdzewEM5sLdAaGmdnbAO4+BXghev/hwIXuvrL6v5aI1LgZM+CQQ6B7d+jUKayEduWVsI7mwNYl5p7y1v2qA8wmunsnM+sC7AZcC4x39461EWBFCgoKvKioKO4wROq2RAG7nj2hUSO4555Qv6hBttx9lqoys/HuXpBqXzopvpGZNQKOBx519+VmVnEmEZG6YcqUUKJi3Dg4+uhQ0XTrreOOSjIonVT/T2AWsCEw2szygZ8yGZSIxGzZMrjlllDAbsYMePZZeP31tBNCYWEoY6FyFrmn0paCuz8MPJy0qdjMDsxcSCISq3HjQmmKyZPhL3+BBx+EKgz/LiwM5SsSs5cT5SxAHcu5IJ2O5s3NbICZvRW9bgeclfHIRKR2LV0KV10FnTvDDz/A0KHhG76K84FUziK3pXP7aBDwNrBl9Pq/wGUZikdE4vD++9CxY5iJ3L176Es4+ui0Ti17q6i4OPVxKmeRG9JJCs3d/QWgBMDdVwAaLipSF/z4I5x77qoaRe+/D337QpMmKQ8vmwAuuIA1Kp9aqvoEqJxFrkhn9NEvZtaMqOyEme0F/JjRqEQk84YOhfPOg2+/DfMNbr11zToUSVL1FfTtG5JBMveQGJK3q5xF7kinpXAFYcbxdmb2EfAUcHFGoxKRzFmwIHQgH3ssNGsGY8bAvfdS+K+8NVoBya8vvXTNvoLypjm5q5xFrqp08hqAma0D7EAoXPeluy/PdGDp0OQ1kfQVPuOMvXwIN35/CY35ibd3/wdXfHct/5uzLk2bwpIlYSRqTcjPD2UsJDut1eQ1MzuzzKZdzQx3f6pGohORjCgsDCN+Zs+GDk3m0PvH83nYhzGGPenKAKZ+2r702IULq38d3SqqW9K5fbR70s++wM3AsRmMSUSqIbkTuHnzMBF5dnEJPbwv/17cnv39fS7jAf7ER0ylfaXvl468vNAtoVtFdUc6k9dW6z8wsybA0xmLSESqrGwn8MKF8Ee+4gm6cwCjeJeD6UE/ZrLtWl2nWTPYaKPQ+mjVKrQIlADqluqUN1xKKG0tIjFKvj3UoEGoWwfQkBVczgPcyo38znp04wkG0JXUa1mlLy8PHnpISaCuS6dPYSirVkFrALQjlLkWkZiUbRkkEsJOfM4AurI7RbzKcVxAH+aVzjutWKNGYTXNRYtCK+DII8Oyy2oV1C/ptBTuTXq+Aih297kZikdE0lC2lMS6/E5PenE9d/IDm3Iqz/Mip5DcOtCXvqQjnT6FUbURiIikL7lkxJ6MYQBdac9UnuKvXMH9LKT5GklAX/qSjnJHH5nZEjP7KcXPEjNT6WyRWpY8uqhBA8jjF+7ncj5mbzZmCUfwJuc0fIpF1pz8fHjySfj+ey19KVVTblJw943dvXGKn43dvdJ1ms1soJnNN7PJSduamtkIM/sqetw0ad/1ZjbdzL40s8PW/lcTqTsSfQiJGkP7rxzJJHbich6kL+fRgcmMzjuCwYOVBGTtpL2enpltZmatEj9pnDIIOLzMtuuAke7eBhgZvU6U4z4NaB+d08fMGqYbm0hdlWgdnHFG6ENowmKeoBsjOYQVrMMBDUZzkfWhaX5jzQ+QGpHO6KNjgfsIpbPnA/nANKh49ou7jzaz1mU2HwccED0fDHxAWPP5OOA5d/8dmGlm04E9gE/S/D1E6pyyI4yO41X6cAGbMZ/eXMst3MTvvgElJfHGKXVLOi2F24C9gP+6+zbAwcBH1bze5u4+DyB63CzavhUwJ+m4udG2NZhZDzMrMrOiBQsWVDMMkeyXGGG0Gd/xPKfyKicwn83Yk7FcT29+YwOVo5Yal05SWO7uC4EGZtbA3d8HOtVwHKlm1aSs1Ofu/dy9wN0LWlRxRSiRbJfcmVxc7JzB00ylHcfxGj25nd35lAnsBqjGkGRGOvMUFpvZRsBooNDM5hPmK1THd2a2hbvPM7MtCLejILQMWiYdtzXwTTWvIZKTkm8XtWQ2fTmPI3mLj+lMN/ozjXalx+bna4ipZEZFQ1JPNrP1Cff7lwKXA8OB/wHHVPN6r7NqfeezgNeStp9mZuuZ2TaEMhrjqnkNkZyS3Jn869ISzqcPU2jPfozmYh5mXz4sTQh5efDMMxpdJJlTUUuhC9CHkAiGAO+4++B039jMhhA6lZub2VzgJqA38IKZdQVmA6cAuPsUM3sBmEpohVzo7lryU+qk5JpFyesYbM+X9Kcb+/Jv3uFQetCPYloDoQKpJqBJbahwkR0zawycQBguujPhL/sh7j66dsKrmBbZkVyRSASJNYyT/9k1ZAVXch+3cBO/sgGX8wCDOYtEV5sWrJGaVtEiOxV2NLv7T+4+2N2PAHYCJgKPmNmcis4Tqe9SrW1QXBz2JSeEnZnIWPbkLq5jGEfRlmkM5mwSCUGdyVLb0pq8Fs08PhH4M9AUeDmTQYnkokQiMIO//nXV7OOFC9dc5nI9fuN2elJEAVvxNSfxEifzMt/xh9JjtGCNxKHcPgUz2xg4Hjgd2JXQGXw78L6ns7CzSD1Q3m2hiv6FdOZjBtCVtnzBk5zNldzHDzQt3Z+Xp2Qg8amoo3km8DbwODDc3ZfXTkgiuaHsjOPK/lTakJ+5gxu4iEeZQ0sOYzjvcBiNGkEzVTOVLFFRUmjl7ksr2C9Sr5Vd06AihzCCfvQgn2Ie40J6cgdL2FjzDSTrlJsUlBBEKpa8pkF5NmUR93Elf2MQXzXYgf1LRjMnfx8eVyKQLJV2lVQRWXNNg4qcxMtMpR1/5WkmH3M9bX6ZyIe+jyaeSVZLp8yFiFD+usjJzGBzn8fAvIs4Yukr0KkTDHyLDrvsUquxilRXRaOPhlJOUToAdz82IxGJZKny+hAaNgwL27Rq6Qw5fDCdX7gcfv0V7rgDrroqLI4skiMqaincGz2eCPwBeCZ6fTowK4MxiWSl8voQSkqgZMas0IzoNwL+9Cfo3x923LFW4xOpCRV1NI8CMLPb3H2/pF1DzSwrylyI1IbEXIRUQ06NEv6xyWPQ4fpw7+jRR+H88yvvcBDJUun0KbQws23dfQZAVMVUCxlIvVC2HyHZDnzBkw260vmHj+Hww6Fv3zANWSSHpZMULgc+MLMZ0evWwLkZi0gki6TqR1iH5VzNPdzELZC3ETw2ONS1sFRrRYnklkqTgrsPN7M2QOIG6RfRWsoidV7ZfoRO/IeBnMMuTIRTToFHHoHNN48lNpFMqPTGp5nlAVcDF7n7Z0ArMzs645GJZIHEGsjr8Rt3cD2fsjt/4FvObfEKvPCCEoLUOen0hj0JLAM6R6/nEgrjidR5vXrBwev9m8/YmevpzWDOomCDqez3wAlxhyaSEekkhe3c/W5gOYC7/0qi2LtIHZSYtdzYlrDi/It49/d9yWu4jEMZwW35A7j7iU01I1nqrHQ6mpeZ2QZEE9nMbDtAfQpSp5Qtgf1/Ppx/ci4tl8zhsXUupXnf2xnRdaO4wxTJuHRaCjcR1mluaWaFwEjgmrW5qJldamaTzWyKmV0WbWtqZiPM7KvocdO1uYZIuhLDTouLoSkLGeRnMpwj+IUN+RMfcdGKB7n2NiUEqR8qTApm1gBIrLp2NjAEKHD3D6p7QTPrAHQH9iCs+3x0NLrpOmCku7chJJ7rqnsNkaoIw06dk3mRqbTjdIZwK/9gF/7DmKgrLZ2KqCJ1QWVrNJcQRh0tdPdh7v6Gu3+/ltdsC4xx96XuvgIYBZwAHAcMjo4ZTFj1TSQjkqud/l48j1c4kRc5lTm0pIAibuJWlrFe6fGJUUgidV06t49GmNlVZtYyusXT1MyaVn5auSYD+5lZs2i465FAS2Bzd58HED1ulupkM+thZkVmVrRgwYK1CEPqq1W3i5yzfSDTaMvhDOdq7mYvxvA5O692fF5eGIUkUh+k09F8TvR4YdI2B7atzgXdfZqZ3QWMAH4GPgNWVOH8fkA/gIKCAq0VLWlJdCTPnh1aBy1XzqQfPTiUdxnFfnTnCb5i+9LjE+sta2U0qW/SmdG8TU1f1N0HAAMAzOwOwtyH78xsC3efZ2ZbAPNr+rpSPyXXL2rASi5c+Sh3cAMlNOB8+vBPzsWjRrOZ1kmW+q3SpBDd4rmCsGZzj6hTeAd3f6O6FzWzzdx9vpm1InRidwa2Ac4CekePr1X3/UWSJeoXtWUq/enG3nzCmxzBufyTubQsPS4/H2bNii9OkWxQlRnNe0eva2JG88tmNhUYClzo7j8QksGhZvYVcGj0WmStzSteRk9u5z/swvb8ly48w1EMWy0hqN9AJEinT2E7d/+zmZ0OYUaz2dqVg3T3fVNsWwgcvDbvK7KGoiImNupK2+Wf8xx/5hIeZkE0hqF0xTTdLhIplU5LQTOaJff8+itTjrmWlbvvSePl33M8r3I6z5UmhLw8GDw4JIVZs5QQRBJimdEsklGjRvHTNh1p/8bdDOQc2jOF1ziudLmD/Hzo10+JQCSVdEYfjTCzCcBehEJ4l9bABDaRmvfTT3DttdC3Lz+ssy3HM5L3Oah0d2KIqTqTRcpXbkvBzHZN/AD5wDzgG8J6CrvWVoAi5Umelfy3zYbxw5btWdm3H/dzBW1XTFotISSoXIVIxSpqKdwXPa4PFBAmmRnQERgL7JPZ0ETKl5h7sMHS73mKyzhjQSGTac/hvMQ49iz3PJWrEKlYuS0Fdz/Q3Q8EioFd3b3A3XcDdgGm11aAIqn0vME5ZulzTKMtp/ICN3MTuzKhwoSgYacilUuno3lHd5+UeOHuk4FOGYtIpDJff81Ds4/nOU5nJtuwG+O5hZtZzropDzdT57JIutKZp/CFmfUHniEMSz0DmJbRqERSKHzGmXRpf65fdBWHspwruI+HuJQSGpZ7jjqWRaomnZbC2cAU4FLgMmAq8LfMhSQSJHckF2z6P7Y882B6L+rBeHZjJybxAFdUmBB0u0ik6ipsKZhZQ+ANdz8EeKB2QhJZ1ZH829KVXMZD3L747yynEd3pR3+6kVgmPHlW8pFHwptvhhFGmqUsUj0VJgV3X2lmS82sibv/WFtBSf2TXNq6VSv4+WfYZulkBtCVPRnH6xzD+TzON2y12nklJeFHRGpGOn0KvwGTzGwE8Etio7tfkrGopM5LTgJNm8KSJbBsWdj3TfEyrudOetKLH2nCaQzhef5MonWQTENMRWpWOklhWPQjUiOS1zcAWLhw1b7dGccAurITk3mGLlzGgyykecr3UZ+BSM1LJyk8D/yRMPLof+7+W2ZDkrousb5Bsg1Yyq3cyOU8wDy24GiGMoyjVzumUSNo3BgWLVKfgUimlJsUzGwd4A7CcpzFhJFKW5vZk0BPd19eOyFKXVO21MQBvE9/urEdM+jLuVzD3SyhMc2awUYbqeNYpDZVNCT1HqApsI277+buuwDbAZsA99ZCbFJHJfoBmrCYf9KD9zmIEhqwPx9wPn1ZQmPy8uChh8IcA5W3Fqk9FSWFo4Hu7r4kscHdfwLOB47MdGBSdyTPN2jdOgwdPWndoUyhPV0ZwN1cTcE6nzGl2f6afSwSs4qSgru7p9i4kmjBneoys8vNbIqZTTazIWa2vpk1NbMRZvZV9Ljp2lxDal/ZL//CwlWdysXFoXT1L8ULOLDf6by07Fh+atSMvRhLn/y76TMoj++/V6tAJG4VJYWpZnZm2Y1mdgbwRXUvaGZbAZcABe7eAWgInAZcB4x09zaEhXyuq+41JPPKJoALLlj9y7+4OLy+9NJEp7JzOs8yjbYct/Jl7mtyK21/LuJTL1ASEMkilqIxEHaEL+9XgF+B8YTWwe7ABsAJ7v51tS4Y3ncMsDPwE/Aq8DDwCHCAu88zsy2AD9x9h4req6CgwIuKiqoThqyFskNKIRSdK+d/JbZmDo9zPkczjDHsSVcGMM3aa9KZSEzMbLy7F6TaV+7oo+hLf08zOwhoT5g59Ja7j1ybYNz9azO7F5hNSDjvuPs7Zra5u8+LjplnZputzXUkc1INKU2VEIwSetCPu7mGhqzkMh7gES6mhIbka9KZSFZKZznO94D3auqCUV/BccA2wGLgxeiWVLrn9wB6ALTSdNZYpLN62R/5iifozgGM4oMGB3FOyRPMZFtAk85Eslk6VVJr2iHATHdfEM11eAXYG/guum1E9Dg/1cnu3i9a8KegRYsWtRa0rFJeLjaDhqzgKu7hczrSiYmM6foEXw9+l5L8bTWySCQHxJEUZgN7mVmemRlwMGF9hteBs6JjzgJeiyE2KSPViKJevcJf+8ny8uC2Uz5n/LqduYdr+HCDw3jvkans1b8bXc4wzTcQyRG1nhTcfSzwEjABmBTF0A/oDRxqZl8Bh0avJUZlh5MmRhRB+Gs/Pz+0Dtq0+p1PDruJnq/sxs6bzIYXXuD/fvkXJ160Zby/gIhUWbmjj3KBRh9lVuvWIRGUtdpqZmPGQNeuMHUqnHEGPPggNGtWe0GKSJVVNPoojttHkiPK61CePRv45Re4/HLYe+9Q9/rNN+Hpp5UQRHJcOlVSpZ5q1Sp1S+G0FiNhp+4wcyZceCHceSdsvHHtBygiNU4tBSlX2Q7lJizmyYbdeHb+IaGO9ejR8OijSggidYiSgpSrS5dVHcrH8ypfNmzHmT4IrrsOJk6EffeNO0QRqWG6fSQV6nLId3R57WIofhF26gQD3oBdd407LBHJELUUJOVcBNxDx3G7dvDaa+Fe0rhxSggidZySQj2Xai7Crd1m8/UuR8GZZ8KOO8Jnn8ENN4R+BBGp05QU6rnk4nZGCefTh6Lf2rPJ56Ph4Yfhww9DYhCRekFJoZ5LzEXYni8Zxf704UI+oTMdfDJcfHG4pyQi9Yb+xddz27RcwbX05jN2pgOT+RsDOYy38fzWcYcmIjHQ6KP6bOJExjXoSjMm8DInciGP8R1/UGlrkXpMLYX66LffQmdCQQHNfv2a0Ze8xJX5LzPf/qDS1iL1nFoK9UBhYcgBs2fDCZt9xMCG3WjyzRdw1llw//3s17Qpsx6KO0oRyQZqKdRxiSGn3xf/zIN+CS9+ty8/zlvKe9cMh0GDoGnTuEMUkSyipFDH9ewJ+yx9m8l04CIe5VEuor1P5pznD4s7NBHJQrp9VJctWsTNxVdwNoP5gh3Ylw/5mD8B8Esa6yyLSP2jlkJd9fLL0K4dZ/AMt9OTTkwsTQhQ/jrLIlK/KSnUNfPmwUknwcknw5Zb8k6vIu7Mu53fWb/0EA05FZHy1HpSMLMdzGxi0s9PZnaZmTU1sxFm9lX0uGltx5bT3EPHcbt2MGwY9O4N48Zx5A2dVltPWUNORaQisa7RbGYNga+BPYELgUXu3tvMrgM2dfdrKzpfazRHZs0KQ4xGjIB99oEBA2D77eOOSkSyVDav0Xww8D93LwaOAwZH2wcDx8cVVM4oKYFHHoEOHeCTT+Cxx2DUKCUEEam2uEcfnQYMiZ5v7u7zANx9npltluoEM+sB9ABoVZ97S6dNg27d4OOP4fDDoW/fcG9IRGQtxNZSMLN1gWOBF6tynrv3c/cCdy9o0aJFZoLLZsuXh17iTp3giy/gqafgzTeVEESkRsTZUjgCmODu30WvvzOzLaJWwhbA/Bhjy04TJsA554RFb049Nax3sPnmcUclInVInH0Kp7Pq1hHA68BZ0fOzgNdqPaJs9euvcN11sMce8N138K9/wfPPKyGISI2LJSmYWR5wKPBK0ubewKFm9lW0r3ccsWWdDz8Mt4ruugvOPhumToXjjy/dnXJ9ZRGRaorl9pG7LwWaldm2kDAaSQCWLAmtgz59wrf9iBFwyCGrHZIodpdYTrO4OLwGzUMQkeqJe0iqpPLWW9C+PTz+OFx2GUyevEZCgNXXV05YujRsFxGpDiWFbLJwIZx5Jhx5JGy8MXz0ETzwAGy4YcrDZ5dT1K687SIilVFSyAbu8MIL0LYtDBkC//hHGGnUuXOFp5U3TaM+T98QkbWjpBC3b76BE0+EP/85fJuPHw+33grrrVfpqb16heJ2yVTsTkTWhpJCXNxDjaJ27WD4cLj7bhgzBjp2THtEUZcuqNidiNSouMtc1E8zZoRhQiNHwn77Qf/+0KYNUPURRV26KAmISM1RS6E2rVwJDz4IO+0E48aF0UXvv1+aEEAjikQkXmop1JYpU6BrVxg7Fo46KiSEli3XOEwjikQkTmopZNqyZXDbbbDLLjB9erg/NHRoyoQAGlEkIvFSUsikTz+FggK48cawROa0afCXv4Re4XJoRJGIxElJIROWLoVrroG99goT0l57Lcw/SKPUt0YUiUic1KdQ0z74ALp3D7eKuneHe+6BJk2q9BYaUSQicVFLoab8+COcdx4ceGBYJnPkyPAnfhUTgohInJQUasKwYaGA3RNPwBVXwKRJFM47SCWtRSTnKCmsjQULwn2eo4+GTTYJ6yXfdx+F/8qjR48w8cx91QQ0JQYRyXZKCtXhDs89F0pUvPgi3HxzKGC3556AJqCJSO5SR3NVzZ0LF1wQ5hrssUeoX9Shw2qHaAKaiOSquJbj3MTMXjKzL8xsmpl1NrOmZjbCzL6KHjeNI7ZylZSEjuP27eHdd+G++8LtojIJATQBTURyV1y3jx4Chrv7jsDOwDTgOmCku7cBRkavs8P06XDwwXDuubDbbjBpUuhQbtgw5eGagCYiuarWk4KZNQb2AwYAuPsyd18MHAcMjg4bDBxf27GtYeXK0CLo2DH0GfTrF4aabrddhadpApqI5Ko4+hS2BRYAT5rZzsB44FJgc3efB+Du88xssxhiW2XyZDjnnFCq4phjQgG7rbZK+3RNQBORXBTH7aN1gF2Bx919F+AXqnCryMx6mFmRmRUtWLCg5qP7/fcwmmjXXWHWrDDK6LXXqpQQRERyVRxJYS4w193HRq9fIiSJ78xsC4DocX6qk929n7sXuHtBizRqCaVS7spmY8eGPoNbboFTT4WpU8MymRUUsBMRqUtqPSm4+7fAHDPbIdp0MDAVeB04K9p2FvBaJq6fWNkseWLZZd1/YdoRV0DnzqFcxRtvwDPPQPPmmQhBRCRrxTVP4WKg0MzWBWYAfyMkqBfMrCswGzglExcuO7HsQN7jiV+7s93wGaF20V13QePGmbi0iEjWiyUpuPtEoCDFroMzfe3EBLImLOYerqY7/fmKP3IAH/DB4/tn+vIiIlmt3pW5aNUKdqOIKbTnHAZyF9fQkc+Zla+EICJS75JCr17w7QbbMoX27MlYruMuGuRtoIllIiLUw9pHYe5AU3r0fIfZsyG/VUgUmlMgIlIPkwJoYpmISHnq3e0jEREpn5KCiIiUUlIQEZFSSgoiIlJKSUFEREopKYiISCklBRERKWXuHncM1WZmC4DiGC7dHPg+hutmM30ma9JnsiZ9JmuK4zPJd/eUaw/kdFKIi5kVuXuqgn71lj6TNekzWZM+kzVl22ei20ciIlJKSUFEREopKVRPv7gDyEL6TNakz2RN+kzWlFWfifoURESklFoKIiJSSklBRERKKSlUg5ndY2ZfmNnnZvYvM9sk7pjiZmanmNkUMysxs6wZXhcHMzvczL40s+lmdl3c8WQDMxtoZvPNbHLcsWQDM2tpZu+b2bTo382lcceUoKRQPSOADu7eEfgvcH3M8WSDycCJwOi4A4mTmTUEHgOOANoBp5tZu3ijygqDgMPjDiKLrACudPe2wF7Ahdny/4mSQjW4+zvuviJ6OQbYOs54soG7T3P3L+OOIwvsAUx39xnuvgx4Djgu5phi5+6jgUVxx5Et3H2eu0+Ini8BpgFbxRtVoKSw9s4B3oo7CMkaWwFzkl7PJUv+sUt2MrPWwC7A2JhDAerpGs3pMLN3gT+k2NXT3V+LjulJaAYW1mZscUnnMxEsxTaN+5aUzGwj4GXgMnf/Ke54QEmhXO5+SEX7zews4GjgYK8nkz0q+0wECC2Dlkmvtwa+iSkWyWJm1oiQEArd/ZW440nQ7aNqMLPDgWuBY919adzxSFb5FGhjZtuY2brAacDrMcckWcbMDBgATHP3++OOJ5mSQvU8CmwMjDCziWbWN+6A4mZmJ5jZXKAzMMzM3o47pjhEAxAuAt4mdB6+4O5T4o0qfmY2BPgE2MHM5ppZ17hjitmfgL8CB0XfIRPN7Mi4gwKVuRARkSRqKYiISCklBRERKaWkICIipZQURESklJKCiIiUUlKQrGBmzZKG5n1rZl9Hzxeb2dRajuX45OJkZnarmVV54p6ZtY6zKqiZ3VDm9cfRY6xxSXZTUpCs4O4L3b2Tu3cC+gIPRM87ASU1fT0zq2g2//GECqeJ2G5093drOoZasFpScPe94wpEcoeSguSChmb2RFR3/h0z2wDAzLYzs+FmNt7MPjSzHaPt+WY2MlrvYqSZtYq2DzKz+83sfeCuVOeb2d7AscA9UUtlu+i8k6P32N3MPjazz8xsnJltHP3l/aGZTYh+KvzyteBRM5tqZsPM7M2k959lZs2j5wVm9kH0fI/ouv+JHneItp9tZq9Ev8dXZnZ3tL03sEH0OxRG235OEUtDC+uDfBp9XudG27cws9HR+ZPNbN+1/G8oucLd9aOfrPoBbgauip63JhQd7BS9fgE4I3o+EmgTPd8TeC96PhQ4K3p+DvBq9HwQ8AbQsJLzBwEnJ8UzCDgZWBeYAewebW9MqB+WB6wfbWsDFCXFPjnF73ciYU2OhsCWwOLE9YBZQPPoeQHwQfK1oueHAC9Hz8+OYmoCrA8UAy2jfT+Xue7PZeMCegB/j56vBxQB2wBXEgodEsW5cdz/X+indn5UEE9ywUx3nxg9Hw+0jqpL7g28GMrIAOFLDUKpjROj508Ddye914vuvrKS88uzAzDP3T8F8KiqpZltCDxqZp2AlcD2lbzPfsAQd18JfGNm71VyPIQv/cFm1oZQdbVR0r6R7v5jFMtUIJ/Vy3dX5P+AjomWSnSdNoQaTgOjom2vJn3+UscpKUgu+D3p+UpgA8Ktz8Ue+h0qk1zL5ZfosSrnJxipy2BfDnwH7By9729VjCnZClbd1l0/afttwPvufoKF+vsfJO0r+/lU5d+1ARe7+xq1qsxsP+Ao4Gkzu8fdn6rC+0qOUp+C5KTor/SZZnYKlN6n3zna/TGhOilAF+DfVTx/CaHgYVlfAFua2e7RORtHHdZNCC2IEkKRs4aVhD8aOC26n78FcGDSvlnAbtHzk5K2NwG+jp6fXcn7JyyP/tKvyNvA+YnjzGx7M9vQzPKB+e7+BKGa565pXlNynJKC5LIuQFcz+wyYwqplLy8B/mZmnxO+pMtbFL28858Dro46dbdLHOxhec0/A49E54wg/DXfBzjLzMYQbh39QsX+BXwFTAIeB0Yl7bsFeMjMPiT81Z9wN3CnmX1E5UknoR/weaKjuRz9ganAhGiY6j8JLY0DgIlm9h9CcnoozWtKjlOVVJGYmdkg4A13fynuWETUUhARkVJqKYiISCm1FEREpJSSgoiIlFJSEBGRUkoKIiJSSklBRERK/T+24f9GqyLYFgAAAABJRU5ErkJggg==)"
   ]
  },
  {
   "cell_type": "code",
   "execution_count": null,
   "metadata": {},
   "outputs": [],
   "source": []
  }
 ],
 "metadata": {
  "kernelspec": {
   "display_name": "Python 3",
   "language": "python",
   "name": "python3"
  },
  "language_info": {
   "codemirror_mode": {
    "name": "ipython",
    "version": 3
   },
   "file_extension": ".py",
   "mimetype": "text/x-python",
   "name": "python",
   "nbconvert_exporter": "python",
   "pygments_lexer": "ipython3",
   "version": "3.8.5"
  }
 },
 "nbformat": 4,
 "nbformat_minor": 2
}
