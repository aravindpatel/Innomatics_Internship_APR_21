{
 "cells": [
  {
   "cell_type": "markdown",
   "metadata": {},
   "source": [
    "# Arrays"
   ]
  },
  {
   "cell_type": "code",
   "execution_count": 23,
   "metadata": {},
   "outputs": [
    {
     "name": "stdout",
     "output_type": "stream",
     "text": [
      "1 2 3 4 -8 -10\n",
      "[-10.  -8.   4.   3.   2.   1.]\n"
     ]
    }
   ],
   "source": [
    "import numpy\n",
    "def arrays(arr):\n",
    "    # complete this function\n",
    "    # use numpy.array\n",
    "    arr.reverse()\n",
    "    a=numpy.array(arr,float)\n",
    "    return a\n",
    "arr = input().strip().split(' ')\n",
    "result = arrays(arr)\n",
    "print(result)"
   ]
  },
  {
   "cell_type": "markdown",
   "metadata": {},
   "source": [
    "# Shape and Reshape"
   ]
  },
  {
   "cell_type": "code",
   "execution_count": 42,
   "metadata": {},
   "outputs": [
    {
     "name": "stdout",
     "output_type": "stream",
     "text": [
      "1 2 3 4 5 6 7 8 9\n",
      "[[1 2 3]\n",
      " [4 5 6]\n",
      " [7 8 9]]\n"
     ]
    }
   ],
   "source": [
    "import numpy as np\n",
    "n=list(map(int,input().split()))\n",
    "m=np.array(n)\n",
    "m.shape=(3,3)\n",
    "print(m)"
   ]
  },
  {
   "cell_type": "markdown",
   "metadata": {},
   "source": [
    "# Transpose and Flatten"
   ]
  },
  {
   "cell_type": "code",
   "execution_count": 1,
   "metadata": {},
   "outputs": [
    {
     "name": "stdout",
     "output_type": "stream",
     "text": [
      "2 2\n",
      "1 2\n",
      "3 4\n",
      "[[1 3]\n",
      " [2 4]]\n",
      "[1 2 3 4]\n"
     ]
    }
   ],
   "source": [
    "import numpy as np\n",
    "x,y=map(int,input().split())\n",
    "a=np.array([input().split() for _ in range(x)],int)\n",
    "print(a.transpose())\n",
    "print(a.flatten())"
   ]
  },
  {
   "cell_type": "markdown",
   "metadata": {},
   "source": [
    "# Concatenate"
   ]
  },
  {
   "cell_type": "code",
   "execution_count": 2,
   "metadata": {},
   "outputs": [
    {
     "name": "stdout",
     "output_type": "stream",
     "text": [
      "4 3 2\n",
      "1 2\n",
      "1 2\n",
      "1 2\n",
      "1 2\n",
      "3 4\n",
      "3 4\n",
      "3 4\n",
      "[[1 2]\n",
      " [1 2]\n",
      " [1 2]\n",
      " [1 2]\n",
      " [3 4]\n",
      " [3 4]\n",
      " [3 4]]\n"
     ]
    }
   ],
   "source": [
    "import numpy as np\n",
    "M,N,P=map(int,input().split())\n",
    "a=np.array([input().split() for _ in range(M)],int)\n",
    "b=np.array([input().split() for _ in range(N)],int)\n",
    "print(np.concatenate((a,b),axis=0))"
   ]
  },
  {
   "cell_type": "markdown",
   "metadata": {},
   "source": [
    "# Zeros and Ones\n"
   ]
  },
  {
   "cell_type": "code",
   "execution_count": 12,
   "metadata": {},
   "outputs": [
    {
     "name": "stdout",
     "output_type": "stream",
     "text": [
      "3 3 3\n",
      "[[[0 0 0]\n",
      "  [0 0 0]\n",
      "  [0 0 0]]\n",
      "\n",
      " [[0 0 0]\n",
      "  [0 0 0]\n",
      "  [0 0 0]]\n",
      "\n",
      " [[0 0 0]\n",
      "  [0 0 0]\n",
      "  [0 0 0]]]\n",
      "[[[1 1 1]\n",
      "  [1 1 1]\n",
      "  [1 1 1]]\n",
      "\n",
      " [[1 1 1]\n",
      "  [1 1 1]\n",
      "  [1 1 1]]\n",
      "\n",
      " [[1 1 1]\n",
      "  [1 1 1]\n",
      "  [1 1 1]]]\n"
     ]
    }
   ],
   "source": [
    "import numpy as p\n",
    "arr=list(map(int, input().split()))\n",
    "print(p.zeros(arr, dtype = p.int))\n",
    "print(p.ones(arr, dtype = p.int))"
   ]
  },
  {
   "cell_type": "markdown",
   "metadata": {},
   "source": [
    "# Eye and Identity"
   ]
  },
  {
   "cell_type": "code",
   "execution_count": 17,
   "metadata": {},
   "outputs": [
    {
     "name": "stdout",
     "output_type": "stream",
     "text": [
      "3 3\n",
      "[[ 1.  0.  0.]\n",
      " [ 0.  1.  0.]\n",
      " [ 0.  0.  1.]]\n"
     ]
    }
   ],
   "source": [
    "import numpy as k\n",
    "i,j = map(int, input().split(' '))\n",
    "k.set_printoptions(sign=' ')\n",
    "print(k.eye(i,j))"
   ]
  },
  {
   "cell_type": "markdown",
   "metadata": {},
   "source": [
    "# Array Mathematics"
   ]
  },
  {
   "cell_type": "code",
   "execution_count": 68,
   "metadata": {},
   "outputs": [
    {
     "name": "stdout",
     "output_type": "stream",
     "text": [
      "1 4\n",
      "1 2 3 4\n",
      "5 6 7 8\n",
      "[[ 6  8 10 12]]\n",
      "[[-4 -4 -4 -4]]\n",
      "[[ 5 12 21 32]]\n",
      "[[0 0 0 0]]\n",
      "[[1 2 3 4]]\n",
      "[[    1    64  2187 65536]]\n"
     ]
    }
   ],
   "source": [
    "import numpy as np\n",
    "x,y = map(int,input().split())\n",
    "p=np.array([input().split() for a in range(x)],int)\n",
    "q=np.array([input().split() for a in range(x)],int)\n",
    "print(p+q)\n",
    "print(p-q)\n",
    "print(p*q)\n",
    "print(p//q)\n",
    "print(p%q)\n",
    "print(p**q)"
   ]
  },
  {
   "cell_type": "markdown",
   "metadata": {},
   "source": [
    "# Floor, Ceil and Rint"
   ]
  },
  {
   "cell_type": "code",
   "execution_count": 10,
   "metadata": {},
   "outputs": [
    {
     "name": "stdout",
     "output_type": "stream",
     "text": [
      "1.1 2.2 3.3 4.4 5.5 6.6 7.7 8.8 9.9\n",
      "[ 1.  2.  3.  4.  5.  6.  7.  8.  9.]\n",
      "[  2.   3.   4.   5.   6.   7.   8.   9.  10.]\n",
      "[  1.   2.   3.   4.   6.   7.   8.   9.  10.]\n"
     ]
    }
   ],
   "source": [
    "import numpy as p2\n",
    "p2.set_printoptions(sign=' ')\n",
    "arr1 = p2.array(input().split(),float)\n",
    "print(p2.floor(arr1))\n",
    "print(p2.ceil(arr1))\n",
    "print(p2.rint(arr1))"
   ]
  },
  {
   "cell_type": "markdown",
   "metadata": {},
   "source": [
    "# Sum and Prod"
   ]
  },
  {
   "cell_type": "code",
   "execution_count": 7,
   "metadata": {},
   "outputs": [
    {
     "name": "stdout",
     "output_type": "stream",
     "text": [
      "2 2\n",
      "1 2\n",
      "3 4\n",
      "24\n"
     ]
    }
   ],
   "source": [
    "import numpy as np\n",
    "x,y = map(int,input().split())\n",
    "p=np.array([input().split() for a in range(x)],int)\n",
    "print(np.product(np.sum(p,axis=0),axis=0))"
   ]
  },
  {
   "cell_type": "markdown",
   "metadata": {},
   "source": [
    "# Min and Max"
   ]
  },
  {
   "cell_type": "code",
   "execution_count": 10,
   "metadata": {},
   "outputs": [
    {
     "name": "stdout",
     "output_type": "stream",
     "text": [
      "4 2\n",
      "2 5\n",
      "3 7\n",
      "1 3\n",
      "4 0\n",
      "3\n"
     ]
    }
   ],
   "source": [
    "import numpy as np\n",
    "x,y = map(int,input().split())\n",
    "p=np.array([input().split() for a in range(x)],int)\n",
    "print(np.max(np.min(p,axis=1),axis=0))"
   ]
  },
  {
   "cell_type": "markdown",
   "metadata": {},
   "source": [
    "# Mean, Var, and Std"
   ]
  },
  {
   "cell_type": "code",
   "execution_count": 11,
   "metadata": {},
   "outputs": [
    {
     "name": "stdout",
     "output_type": "stream",
     "text": [
      "2 2\n",
      "1 2\n",
      "3 4\n",
      "[ 1.5  3.5]\n",
      "[ 1.  1.]\n",
      "1.11803398875\n"
     ]
    }
   ],
   "source": [
    "import numpy as p2\n",
    "x,y = map(int,input().split())\n",
    "arr1=p2.array([input().split() for a in range(x)],int)\n",
    "print(p2.mean(arr1,axis=1))\n",
    "print(p2.var(arr1,axis=0))\n",
    "print((p2.std(arr1)).round(11))"
   ]
  },
  {
   "cell_type": "markdown",
   "metadata": {},
   "source": [
    "# Dot and Cross"
   ]
  },
  {
   "cell_type": "code",
   "execution_count": 20,
   "metadata": {},
   "outputs": [
    {
     "name": "stdout",
     "output_type": "stream",
     "text": [
      "2\n",
      "1 2\n",
      "3 4\n",
      "1 2\n",
      "3 4\n",
      "[[ 7 10]\n",
      " [15 22]]\n"
     ]
    }
   ],
   "source": [
    "import numpy as np\n",
    "x= int(input())\n",
    "p=np.array([input().split() for a in range(x)],int)\n",
    "q=np.array([input().split() for a in range(x)],int)\n",
    "print(np.dot(p,q))"
   ]
  },
  {
   "cell_type": "markdown",
   "metadata": {},
   "source": [
    "# Inner and Outer"
   ]
  },
  {
   "cell_type": "code",
   "execution_count": 23,
   "metadata": {},
   "outputs": [
    {
     "name": "stdout",
     "output_type": "stream",
     "text": [
      "0 1\n",
      "2 3\n",
      "3\n",
      "[[0 0]\n",
      " [2 3]]\n"
     ]
    }
   ],
   "source": [
    "import numpy as np\n",
    "p=np.array(input().split(),int)\n",
    "q=np.array(input().split(),int)\n",
    "print(np.inner(p,q))\n",
    "print(np.outer(p,q))"
   ]
  },
  {
   "cell_type": "markdown",
   "metadata": {},
   "source": [
    "# Polynomials"
   ]
  },
  {
   "cell_type": "code",
   "execution_count": 12,
   "metadata": {},
   "outputs": [
    {
     "name": "stdout",
     "output_type": "stream",
     "text": [
      "1.1 2 3\n",
      "0\n",
      "3.0\n"
     ]
    }
   ],
   "source": [
    "import numpy as np2\n",
    "arr1 = list(map(float, input().split()))\n",
    "print(np2.polyval(arr1,float(input())))"
   ]
  },
  {
   "cell_type": "markdown",
   "metadata": {},
   "source": [
    "# Linear Algebra\n"
   ]
  },
  {
   "cell_type": "code",
   "execution_count": 13,
   "metadata": {},
   "outputs": [
    {
     "name": "stdout",
     "output_type": "stream",
     "text": [
      "2\n",
      "1.1 1.1\n",
      "1.1 1.1\n",
      "0.0\n"
     ]
    }
   ],
   "source": [
    "import numpy as pp\n",
    "n=int(input())\n",
    "arr1=pp.array([input().split() for _ in range(n)],float)\n",
    "pp.set_printoptions(legacy='1.13')\n",
    "print(pp.linalg.det(arr1))"
   ]
  }
 ],
 "metadata": {
  "kernelspec": {
   "display_name": "Python 3",
   "language": "python",
   "name": "python3"
  },
  "language_info": {
   "codemirror_mode": {
    "name": "ipython",
    "version": 3
   },
   "file_extension": ".py",
   "mimetype": "text/x-python",
   "name": "python",
   "nbconvert_exporter": "python",
   "pygments_lexer": "ipython3",
   "version": "3.8.5"
  }
 },
 "nbformat": 4,
 "nbformat_minor": 4
}
