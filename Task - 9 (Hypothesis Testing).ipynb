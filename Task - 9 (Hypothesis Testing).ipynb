{
 "cells": [
  {
   "cell_type": "code",
   "execution_count": 3,
   "metadata": {},
   "outputs": [],
   "source": [
    "import matplotlib.pyplot as plt\n",
    "import numpy as np\n",
    "from scipy.stats import norm"
   ]
  },
  {
   "cell_type": "code",
   "execution_count": 19,
   "metadata": {},
   "outputs": [],
   "source": [
    "# t_score for sampling distributions\n",
    "def t_score1(sample_size,sample_mean,sample_std,pop_mean):\n",
    "    numerator = sample_mean - pop_mean\n",
    "    denomenator = sample_std / sample_size**0.5\n",
    "    return numerator / denomenator"
   ]
  },
  {
   "cell_type": "markdown",
   "metadata": {},
   "source": [
    "# Understanding the Hypothesis Testing"
   ]
  },
  {
   "cell_type": "markdown",
   "metadata": {},
   "source": [
    "Step - 1:  \n",
    "Alternate Hypothesis (Bold claim): $ H_1 \\ \\Rightarrow \\ >, \\ <, \\ \\neq  $  \n",
    "Null Hypothesis (Status Quo): $ H_0 \\ \\Rightarrow \\ \\leq, \\ \\geq, \\ = $\n",
    "\n",
    "Step - 2:  \n",
    "* Collect a sample of size n\n",
    "* Compute the mean from this sample $ \\bar{x} $\n",
    "\n",
    "Step - 3:\n",
    "Compute Test Statistic:  \n",
    "* If population variance is known $$ z = \\frac{\\bar{x} - \\mu}{\\sigma/\\sqrt[2]{n}}$$\n",
    "\n",
    "* If population variance is unknown $$ t = \\frac{\\bar{x} - \\mu}{s/\\sqrt[2]{n}} $$\n",
    "\n",
    "Step - 4:\n",
    "Decide significance level $ \\alpha $. Lower $ \\alpha $ means you need stronger evidence to reject Null Hypothesis.\n",
    "\n",
    "Step - 5.1: Apply decision rule:\n",
    "* If test statistic is z-score -\n",
    "    * Two tailed z-test: $$ |z| > z_\\frac{\\alpha}{2} \\Rightarrow Accept \\ H_1 \\ or \\ Reject \\ H_0$$\n",
    "    * Right tailed z-test: $$ z > z_\\alpha \\Rightarrow Accept \\ H_1 \\ or \\ Reject \\ H_0 $$\n",
    "    * Left tailed z-test: $$ z < -z_\\alpha \\Rightarrow Accept \\ H_1 \\ or \\ Reject \\ H_0 $$\n",
    "    \n",
    "* If test statistic is t-score\n",
    "    * Two tailed t-test: $$ |t| > t_{n-1,\\frac{\\alpha}{2}} \\Rightarrow Accept \\ H_1 \\ or \\ Reject \\ H_0 $$\n",
    "    * Right tailed t-test: $$ t > t_{n-1,\\alpha} \\Rightarrow Accept \\ H_1 \\ or \\ Reject \\ H_0 $$\n",
    "    * Left tailed t-test: $$ t < t_{n-1,\\alpha} \\Rightarrow Accept \\ H_1 \\ or \\ Reject \\ H_0 $$\n",
    "\n",
    "Step - 5.2: Compute p-value $ P(Test \\ Statistics | H_0) $\n",
    "* For two tailed test: $$ p \\ value = 2 * (1.0 - cdf(test \\ statistic)) $$\n",
    "* For one tailed test: $$ p \\ value = (1.0 - cdf(test \\ statistic)) $$\n",
    "Now, $$ if (p \\ value < \\alpha) \\Rightarrow Accept \\ H_1 \\ or \\ Reject \\ H_0 $$"
   ]
  },
  {
   "cell_type": "markdown",
   "metadata": {},
   "source": [
    "# Known Variance of Population\n",
    "\n",
    "> <b> Q-1: Pista House selling Hyderabadi Chicken Dum biryani claims that each parcel packet has 500 grams of biryani(also mentioned on the label of packet).You are sceptic of their claims and believe that on average each packet does not contain 500 grams of biryani.How do you prove your claim? (Given that the population std is 50) </b>\n",
    "\n",
    "Step - 1:  \n",
    "Alternate Hypothesis (Bold claim): $$ H_1: \\mu \\neq500  $$\n",
    "Null Hypothesis (Status Quo): $$ H_0:\\mu=500  $$\n",
    "\n",
    "Step - 2:  \n",
    "* Collect a sample of size n = 10 $$ [490, 220, 470, 500, 495, 496, 496, 498, 508, 480] $$\n",
    "* Compute sample mean $$ \\bar{x} \\ = 465.3 $$\n",
    "\n",
    "Step - 3:\n",
    "Compute Test Statistic: $$ t = \\frac{\\bar{x} - \\mu}{s/\\sqrt[2]{n}}$$\n",
    "\n",
    "Step - 4:\n",
    "Decide $ \\alpha $ or significance level\n",
    "\n",
    "Step - 5.1:  2 tailed t-test: \n",
    "\n",
    "Step - 5.2: Compute t-value\n"
   ]
  },
  {
   "cell_type": "code",
   "execution_count": 20,
   "metadata": {},
   "outputs": [
    {
     "name": "stdout",
     "output_type": "stream",
     "text": [
      "10\n"
     ]
    }
   ],
   "source": [
    "#consider l as list values\n",
    "l=[490,220,470,500,495,496,496,498,508,480]\n",
    "sample_size=len(l)\n",
    "print(sample_size)"
   ]
  },
  {
   "cell_type": "code",
   "execution_count": 21,
   "metadata": {},
   "outputs": [],
   "source": [
    "sample_mean=np.mean(l)"
   ]
  },
  {
   "cell_type": "code",
   "execution_count": 22,
   "metadata": {},
   "outputs": [
    {
     "name": "stdout",
     "output_type": "stream",
     "text": [
      "82.3918078451978\n"
     ]
    }
   ],
   "source": [
    "sample_std=np.std(l)\n",
    "print(sample_std)"
   ]
  },
  {
   "cell_type": "code",
   "execution_count": 23,
   "metadata": {},
   "outputs": [],
   "source": [
    "sample_size = 10\n",
    "sample_mean = 465.3\n",
    "pop_mean = 500\n",
    "sample_var=6788.409999999999"
   ]
  },
  {
   "cell_type": "code",
   "execution_count": 34,
   "metadata": {},
   "outputs": [
    {
     "name": "stdout",
     "output_type": "stream",
     "text": [
      "-1.3318197242863192\n"
     ]
    }
   ],
   "source": [
    "t_score=(t_score1(sample_size,sample_mean,sample_std,pop_mean))\n",
    "print(t_score)"
   ]
  },
  {
   "cell_type": "code",
   "execution_count": 36,
   "metadata": {},
   "outputs": [
    {
     "name": "stdout",
     "output_type": "stream",
     "text": [
      "2.2621571627409915\n"
     ]
    }
   ],
   "source": [
    "# Two tail\n",
    "from scipy.stats import t\n",
    "alpha = 1 - 0.95\n",
    "df=len(l)-1\n",
    "t_critical = t.ppf(1-alpha/2, df)\n",
    "print(t_critical)"
   ]
  },
  {
   "cell_type": "code",
   "execution_count": 30,
   "metadata": {},
   "outputs": [
    {
     "data": {
      "text/plain": [
       "Text(465.3, 0.0007, 'x_bar')"
      ]
     },
     "execution_count": 30,
     "metadata": {},
     "output_type": "execute_result"
    },
    {
     "data": {
      "image/png": "[encoded data removed]",
      "text/plain": [
       "<Figure size 432x288 with 1 Axes>"
      ]
     },
     "metadata": {
      "needs_background": "light"
     },
     "output_type": "display_data"
    }
   ],
   "source": [
    "\n",
    "# Ploting the sampling distribution with rejection regions\n",
    "\n",
    "# Defining the x minimum and x maximum\n",
    "x_min = 400\n",
    "x_max = 600\n",
    "\n",
    "# Defining the sampling distribution mean and sampling distribution std\n",
    "mean = pop_mean\n",
    "std = sample_std / sample_size**0.5\n",
    "\n",
    "# Ploting the graph and setting the x limits\n",
    "x = np.linspace(x_min, x_max, 100)\n",
    "y = norm.pdf(x, mean, std)\n",
    "plt.xlim(x_min, x_max)\n",
    "plt.plot(x, y)\n",
    "\n",
    "# Computing the left and right critical values (Two tailed Test)\n",
    "t_critical_left = pop_mean + (-t_critical * std)\n",
    "t_critical_right = pop_mean + (t_critical * std)\n",
    "\n",
    "# Shading the left rejection region\n",
    "x1 = np.linspace(x_min, t_critical_left, 100)\n",
    "y1 = norm.pdf(x1, mean, std)\n",
    "plt.fill_between(x1, y1, color='orange')\n",
    "\n",
    "# Shading the right rejection region\n",
    "x2 = np.linspace(t_critical_right, x_max, 100)\n",
    "y2 = norm.pdf(x2, mean, std)\n",
    "plt.fill_between(x2, y2, color='orange')\n",
    "\n",
    "# Ploting the sample mean and concluding the results \n",
    "plt.scatter(sample_mean, 0)\n",
    "plt.annotate(\"x_bar\", (sample_mean, 0.0007))\n",
    "\n",
    "# In this case sample mean falls in the acceptance region\n",
    "# i.e. here we fail to reject the Null Hypothesis\n",
    "\n",
    "\n"
   ]
  },
  {
   "cell_type": "code",
   "execution_count": 27,
   "metadata": {},
   "outputs": [
    {
     "name": "stdout",
     "output_type": "stream",
     "text": [
      "Fail to reject Null Hypothesis\n"
     ]
    }
   ],
   "source": [
    "# Conclusion using t test\n",
    "\n",
    "if(np.abs(t_score) > t_critical):\n",
    "    print(\"Reject Null Hypothesis\")\n",
    "else:\n",
    "    print(\"Fail to reject Null Hypothesis\")\n",
    "\n"
   ]
  },
  {
   "cell_type": "code",
   "execution_count": 37,
   "metadata": {},
   "outputs": [
    {
     "name": "stdout",
     "output_type": "stream",
     "text": [
      "p_value =  0.09145971743176973\n",
      "Fail to reject Null Hypothesis\n"
     ]
    }
   ],
   "source": [
    "# Conclusion using p test\n",
    "p_value = 1.0 - norm.cdf(np.abs(t_score))\n",
    "print(\"p_value = \", p_value)\n",
    "\n",
    "if(p_value < alpha):\n",
    "    print(\"Reject Null Hypothesis\")\n",
    "else:\n",
    "    print(\"Fail to reject Null Hypothesis\")"
   ]
  },
  {
   "cell_type": "markdown",
   "metadata": {},
   "source": [
    "\n",
    "<b>Q-2: You have developed a new Natural Language Processing Algorithms and done a user study. You claim that the average rating given by the users is greater than 4 on a scale of 1 to 5. How do you prove this to your client?</b>\n",
    "\n",
    "> Step - 1: Alternate Hypothesis (Bold Claim):$$ H_1:  \\mu > 4 $$\n",
    "Null Hypothesis (Status Quo):$$ H_0:  \\mu \\leq 4 $$\n",
    "\n",
    "Step - 2:\n",
    "\n",
    "> Collect a sample of size n = 10$$ [4, 3, 5, 4, 5, 3, 5, 5, 4, 2, 4, 5, 5, 4, 4, 5, 4, 5, 4, 5] $$ Compute sample mean$$ \\bar{x} \\ = \\ 4.25 $$ Step - 3: Compute Test Statistic:$$ t = \\frac{\\bar{x} - \\mu}{S/\\sqrt[2]{n}}$$\n",
    "\n",
    "> Step - 4: Decide $ \\alpha $\n",
    "\n",
    "> Step - 5.1: right tailed t-test:$$ reject \\ H_0: {if} \\  t > t_{n-1,\\alpha} $$ \n",
    "\n",
    "> Step - 5.2: Compute p-value\n"
   ]
  },
  {
   "cell_type": "code",
   "execution_count": 55,
   "metadata": {},
   "outputs": [
    {
     "name": "stdout",
     "output_type": "stream",
     "text": [
      "4.25\n"
     ]
    }
   ],
   "source": [
    "pop_mean = 4\n",
    "l = [4, 3, 5, 4, 5, 3, 5, 5, 4, 2, 4, 5, 5, 4, 4, 5, 4, 5, 4, 5]\n",
    "sample_size = len(l)\n",
    "sample_mean = np.mean(l)\n",
    "print(sample_mean)"
   ]
  },
  {
   "cell_type": "code",
   "execution_count": 56,
   "metadata": {},
   "outputs": [
    {
     "name": "stdout",
     "output_type": "stream",
     "text": [
      "0.82915619758885\n"
     ]
    }
   ],
   "source": [
    "sample_std = np.std(l)\n",
    "print(sample_std)"
   ]
  },
  {
   "cell_type": "code",
   "execution_count": 57,
   "metadata": {},
   "outputs": [
    {
     "name": "stdout",
     "output_type": "stream",
     "text": [
      "1.729132811521367\n"
     ]
    }
   ],
   "source": [
    "# Right Tail - Calculating the t-critical value\n",
    "confidence_level = 0.95\n",
    "alpha = 1 - confidence_level\n",
    "df = len(l)-1\n",
    "t_critical = t.ppf(1 - alpha, df) # One tailed t score for 95% Confidence Level\n",
    "print(t_critical)"
   ]
  },
  {
   "cell_type": "code",
   "execution_count": 60,
   "metadata": {},
   "outputs": [
    {
     "name": "stdout",
     "output_type": "stream",
     "text": [
      "20 4.25 4 0.82915619758885\n"
     ]
    }
   ],
   "source": [
    "print(sample_size, sample_mean, pop_mean, sample_std)"
   ]
  },
  {
   "cell_type": "code",
   "execution_count": 61,
   "metadata": {},
   "outputs": [
    {
     "name": "stdout",
     "output_type": "stream",
     "text": [
      "1.3483997249264843\n"
     ]
    }
   ],
   "source": [
    "# Calculating the t-score\n",
    "t_score = t_score1(sample_size,sample_mean,sample_std,pop_mean)\n",
    "print(t_score)"
   ]
  },
  {
   "cell_type": "code",
   "execution_count": 62,
   "metadata": {},
   "outputs": [
    {
     "data": {
      "text/plain": [
       "Text(4.25, 0.0007, 'x_bar')"
      ]
     },
     "execution_count": 62,
     "metadata": {},
     "output_type": "execute_result"
    },
    {
     "data": {
      "image/png": "[encoded data removed]",
      "text/plain": [
       "<Figure size 432x288 with 1 Axes>"
      ]
     },
     "metadata": {
      "needs_background": "light"
     },
     "output_type": "display_data"
    }
   ],
   "source": [
    "# Ploting the sampling distribution with rejection regions\n",
    "\n",
    "# Defining the x minimum and x maximum\n",
    "x_min = 3.5\n",
    "x_max = 4.5\n",
    "\n",
    "# Defining the sampling distribution mean and sampling distribution std\n",
    "mean = pop_mean\n",
    "std = sample_std / sample_size**0.5\n",
    "\n",
    "# Ploting the graph and setting the x limits\n",
    "x = np.linspace(x_min, x_max, 100)\n",
    "y = norm.pdf(x, mean, std)\n",
    "plt.xlim(x_min, x_max)\n",
    "plt.plot(x, y)\n",
    "\n",
    "# Computing the right critical values (One tailed Test)\n",
    "t_critical_right = pop_mean + (t_critical * std)\n",
    "\n",
    "# Shading the right rejection region\n",
    "x1 = np.linspace(t_critical_right, x_max, 100)\n",
    "y1 = norm.pdf(x1, mean, std)\n",
    "plt.fill_between(x1, y1, color='orange')\n",
    "\n",
    "# Ploting the sample mean and concluding the results \n",
    "plt.scatter(sample_mean, 0)\n",
    "plt.annotate(\"x_bar\", (sample_mean, 0.0007))\n",
    "\n",
    "# In this case sample mean falls in the acceptance region\n",
    "# i.e. here we fail to reject the Null Hypothesis"
   ]
  },
  {
   "cell_type": "code",
   "execution_count": 63,
   "metadata": {},
   "outputs": [
    {
     "name": "stdout",
     "output_type": "stream",
     "text": [
      "Failed to reject Null Hypothesis\n"
     ]
    }
   ],
   "source": [
    "# Conclusion using t test\n",
    "if(np.abs(t_score) > t_critical):\n",
    "    print(\"Reject Null Hypothesis\")\n",
    "else:\n",
    "    print(\"Failed to reject Null Hypothesis\")"
   ]
  },
  {
   "cell_type": "code",
   "execution_count": 64,
   "metadata": {},
   "outputs": [
    {
     "name": "stdout",
     "output_type": "stream",
     "text": [
      "p_value =  0.08876492620607679\n",
      "Failed to reject Null Hypothesis\n"
     ]
    }
   ],
   "source": [
    "# using p test\n",
    "p_value = 1.0 - norm.cdf(np.abs(t_score))\n",
    "print(\"p_value = \", p_value)\n",
    "if(p_value < alpha):\n",
    "    print(\"Reject Null Hypothesis\")\n",
    "else:\n",
    "    print(\"Failed to reject Null Hypothesis\")"
   ]
  },
  {
   "cell_type": "markdown",
   "metadata": {},
   "source": [
    "\n",
    "\n",
    "Q-3: TATA has developed a better fuel management system for the SUV segment. They claim that with this system, on average the SUV's mileage is at least 15 km/litre?\n",
    "\n",
    "Step - 1: Alternate Hypothesis (Bold Claim): $$ H_1:\\ \\mu > 15 \n",
    "$$Null Hypothesis (Status Quo):$$ H_0:\\ \\mu \\leq 15 $$\n",
    "\n",
    "Step - 2:\n",
    "\n",
    "Collect a sample of size n = 20$$ [14.08, 14.13, 15.65, 13.78, 16.26, 14.97, 15.36, 15.81, 14.53, 16.79, 15.78, 16.98, 13.23, 15.43, 15.46, 13.88, 14.31, 14.41, 15.76, 15.38] \n",
    "$$ Compute sample mean$$ \\bar{x} \\ = \\ 15.1 $$ \n",
    "\n",
    "Step - 3: Compute Test Statistic:$$ t = \\frac{\\bar{x} - \\mu}{S/\\sqrt[2]{n}}$$\n",
    "\n",
    "Step - 4: Decide $ \\alpha $\n",
    "\n",
    "Step - 5.1: right tailed t-test:$$ reject \\ H_0 \\ if \\ tscore > tcritical$$\n",
    "\n",
    "Step - 5.2: Compute p-value\n"
   ]
  },
  {
   "cell_type": "code",
   "execution_count": 84,
   "metadata": {},
   "outputs": [
    {
     "name": "stdout",
     "output_type": "stream",
     "text": [
      "15.099\n"
     ]
    }
   ],
   "source": [
    "pop_mean = 15\n",
    "l = [14.08, 14.13, 15.65, 13.78, 16.26, 14.97, 15.36, 15.81, 14.53, 16.79, 15.78,\n",
    "     16.98, 13.23, 15.43, 15.46, 13.88, 14.31, 14.41, 15.76, 15.38]\n",
    "sample_size = len(l)\n",
    "sample_mean = np.mean(l)\n",
    "print(sample_mean)"
   ]
  },
  {
   "cell_type": "code",
   "execution_count": 85,
   "metadata": {},
   "outputs": [
    {
     "name": "stdout",
     "output_type": "stream",
     "text": [
      "0.9994043225842081\n"
     ]
    }
   ],
   "source": [
    "sample_std = np.std(l)\n",
    "print(sample_std)"
   ]
  },
  {
   "cell_type": "code",
   "execution_count": 86,
   "metadata": {},
   "outputs": [
    {
     "data": {
      "text/plain": [
       "0.9994043225842081"
      ]
     },
     "execution_count": 86,
     "metadata": {},
     "output_type": "execute_result"
    }
   ],
   "source": [
    "sample_std"
   ]
  },
  {
   "cell_type": "code",
   "execution_count": 87,
   "metadata": {},
   "outputs": [
    {
     "name": "stdout",
     "output_type": "stream",
     "text": [
      "1.729132811521367\n"
     ]
    }
   ],
   "source": [
    "# Right Tail - Calculating the t-critical value\n",
    "confidence_level = 0.95\n",
    "alpha = 1 - confidence_level\n",
    "df = len(l)-1\n",
    "t_critical = t.ppf(1 - alpha, df) # One tailed t score for 95% Confidence Level\n",
    "print(t_critical)"
   ]
  },
  {
   "cell_type": "code",
   "execution_count": 88,
   "metadata": {},
   "outputs": [
    {
     "name": "stdout",
     "output_type": "stream",
     "text": [
      "0.4430053478257341\n"
     ]
    }
   ],
   "source": [
    "# Calculating the t-score\n",
    "t_score = t_score1(sample_size,sample_mean,sample_std,pop_mean)\n",
    "print(t_score)"
   ]
  },
  {
   "cell_type": "code",
   "execution_count": 89,
   "metadata": {},
   "outputs": [
    {
     "data": {
      "text/plain": [
       "Text(15.099, 0.0007, 'x_bar')"
      ]
     },
     "execution_count": 89,
     "metadata": {},
     "output_type": "execute_result"
    },
    {
     "data": {
      "image/png": "[encoded data removed]",
      "text/plain": [
       "<Figure size 432x288 with 1 Axes>"
      ]
     },
     "metadata": {
      "needs_background": "light"
     },
     "output_type": "display_data"
    }
   ],
   "source": [
    "# Ploting the sampling distribution with rejection regions\n",
    "\n",
    "# Defining the x minimum and x maximum\n",
    "x_min = 13\n",
    "x_max = 17\n",
    "\n",
    "# Defining the sampling distribution mean and sampling distribution std\n",
    "mean = pop_mean\n",
    "std = sample_std / sample_size**0.5\n",
    "\n",
    "# Ploting the graph and setting the x limits\n",
    "x = np.linspace(x_min, x_max, 100)\n",
    "y = norm.pdf(x, mean, std)\n",
    "plt.xlim(x_min, x_max)\n",
    "plt.plot(x, y)\n",
    "\n",
    "# Computing the right critical values (One tailed Test)\n",
    "t_critical_right = pop_mean + (t_critical * std)\n",
    "\n",
    "# Shading the right rejection region\n",
    "x1 = np.linspace(t_critical_right, x_max, 100)\n",
    "y1 = norm.pdf(x1, mean, std)\n",
    "plt.fill_between(x1, y1, color='orange')\n",
    "\n",
    "# Ploting the sample mean and concluding the results \n",
    "plt.scatter(sample_mean, 0)\n",
    "plt.annotate(\"x_bar\", (sample_mean, 0.0007))\n",
    "\n",
    "# In this case sample mean falls in the acceptance region\n",
    "# i.e. here we fail to reject the Null Hypothesis"
   ]
  },
  {
   "cell_type": "code",
   "execution_count": 90,
   "metadata": {},
   "outputs": [
    {
     "name": "stdout",
     "output_type": "stream",
     "text": [
      "Fail to reject Null Hypothesis\n"
     ]
    }
   ],
   "source": [
    "# Conclusion using t test\n",
    "if(np.abs(t_score) > t_critical):\n",
    "    print(\"Reject Null Hypothesis\")\n",
    "else:\n",
    "    print(\"Fail to reject Null Hypothesis\")"
   ]
  },
  {
   "cell_type": "code",
   "execution_count": 91,
   "metadata": {},
   "outputs": [
    {
     "name": "stdout",
     "output_type": "stream",
     "text": [
      "p_value =  0.3288809332844478\n",
      "Fail to reject Null Hypothesis\n"
     ]
    }
   ],
   "source": [
    "# Conclusion using p test\n",
    "\n",
    "p_value = 1.0 - norm.cdf(np.abs(t_score))\n",
    "print(\"p_value = \", p_value)\n",
    "\n",
    "if(p_value < alpha):\n",
    "    print(\"Reject Null Hypothesis\")\n",
    "else:\n",
    "    print(\"Fail to reject Null Hypothesis\")"
   ]
  },
  {
   "cell_type": "markdown",
   "metadata": {},
   "source": [
    "<b> Q-4: You have developed a new Machine Learning Application and claim that on average it takes less than 100 ms to predict for any future datapoint. How do you convince your client about this claim? \n",
    "\n",
    "Step - 1: Alternate Hypothesis (Bold Claim):$$ H_1: \\mu < 100 $$Null Hypothesis (Status Quo):$$ H_0: \\mu \\geq 100 $$\n",
    "\n",
    "Step - 2:\n",
    "Collect a sample of size n = 20$$ [100.08, 102.13, 98.65, 94.78, 96.26, 100.97, 98.36, 100.81, 99.53, 97.79, 101.78, 103.98, 94.23, 92.43, 91.46, 95.88, 98.31, 99.41, 105.76, 90.38] $$ Compute sample mean$$ \\bar{x} \\ = \\ 98.149 $$ Step - 3: Compute Test Statistic:$$ t = \\frac{\\bar{x} - \\mu}{S/\\sqrt[2]{n}}$$\n",
    "\n",
    "Step - 4: Decide $ \\alpha $\n",
    "\n",
    "Step - 5.1: left tailed t-test:$$ reject \\ H_0 \\ if \\ \\ t &lt; t_{n-1,\\alpha} $$\n",
    "\n",
    "Step - 5.2: Compute p-value\n"
   ]
  },
  {
   "cell_type": "code",
   "execution_count": 92,
   "metadata": {},
   "outputs": [
    {
     "name": "stdout",
     "output_type": "stream",
     "text": [
      "98.149\n"
     ]
    }
   ],
   "source": [
    "pop_mean = 100\n",
    "l = [100.08, 102.13, 98.65, 94.78, 96.26, 100.97, 98.36, 100.81, 99.53, 97.79, 101.78,\n",
    "     103.98, 94.23, 92.43, 91.46, 95.88, 98.31, 99.41, 105.76, 90.38]\n",
    "sample_size = len(l)\n",
    "sample_mean = np.mean(l)\n",
    "print(sample_mean)"
   ]
  },
  {
   "cell_type": "code",
   "execution_count": 93,
   "metadata": {},
   "outputs": [
    {
     "name": "stdout",
     "output_type": "stream",
     "text": [
      "3.980629221618111\n"
     ]
    }
   ],
   "source": [
    "sample_std = np.std(l)\n",
    "print(sample_std)"
   ]
  },
  {
   "cell_type": "code",
   "execution_count": 94,
   "metadata": {},
   "outputs": [
    {
     "name": "stdout",
     "output_type": "stream",
     "text": [
      "1.729132811521367\n"
     ]
    }
   ],
   "source": [
    "# Right Tail - Calculating the t-critical value\n",
    "confidence_level = 0.95\n",
    "alpha = 1 - confidence_level\n",
    "df = len(l)-1\n",
    "t_critical = t.ppf(1 - alpha, df) # One tailed t score for 95% Confidence Level\n",
    "print(t_critical)"
   ]
  },
  {
   "cell_type": "code",
   "execution_count": 95,
   "metadata": {},
   "outputs": [
    {
     "name": "stdout",
     "output_type": "stream",
     "text": [
      "-2.079551546209891\n"
     ]
    }
   ],
   "source": [
    "# Calculating the t-score\n",
    "t_score = t_score1(sample_size,sample_mean,sample_std,pop_mean)\n",
    "print(t_score)"
   ]
  },
  {
   "cell_type": "code",
   "execution_count": 97,
   "metadata": {},
   "outputs": [
    {
     "name": "stdout",
     "output_type": "stream",
     "text": [
      "90.38 105.76\n"
     ]
    }
   ],
   "source": [
    "print(np.min(l),np.max(l))"
   ]
  },
  {
   "cell_type": "code",
   "execution_count": 98,
   "metadata": {},
   "outputs": [
    {
     "data": {
      "text/plain": [
       "Text(98.149, 0.02, 'x_bar')"
      ]
     },
     "execution_count": 98,
     "metadata": {},
     "output_type": "execute_result"
    },
    {
     "data": {
      "image/png": "[encoded data removed]",
      "text/plain": [
       "<Figure size 432x288 with 1 Axes>"
      ]
     },
     "metadata": {
      "needs_background": "light"
     },
     "output_type": "display_data"
    }
   ],
   "source": [
    "x_min = 90\n",
    "x_max = 106\n",
    "mean = pop_mean\n",
    "std = sample_std / (sample_size**0.5)\n",
    "\n",
    "x = np.linspace(x_min, x_max, 100)\n",
    "y = norm.pdf(x, mean, std)\n",
    "\n",
    "plt.xlim(x_min, x_max)\n",
    "# plt.ylim(0, 0.03)\n",
    "\n",
    "plt.plot(x, y)\n",
    "\n",
    "t_critical_left = pop_mean + (-t_critical * std)\n",
    "\n",
    "x1 = np.linspace(x_min, t_critical_left, 100)\n",
    "y1 = norm.pdf(x1, mean, std)\n",
    "plt.fill_between(x1, y1, color='orange')\n",
    "\n",
    "plt.scatter(sample_mean, 0)\n",
    "plt.annotate(\"x_bar\", (sample_mean, 0.02))\n",
    "\n",
    "# In this case sample mean falls in the rejection region\n",
    "\n",
    "# i.e. Reject Null Hypothesis\n",
    "\n"
   ]
  },
  {
   "cell_type": "code",
   "execution_count": 102,
   "metadata": {},
   "outputs": [
    {
     "name": "stdout",
     "output_type": "stream",
     "text": [
      "Reject Null Hypothesis\n"
     ]
    }
   ],
   "source": [
    "if(t_score < t_critical):\n",
    "    print(\"Reject Null Hypothesis\")\n",
    "else:\n",
    "    print(\"Fail to reject Null Hypothesis\")"
   ]
  },
  {
   "cell_type": "code",
   "execution_count": 105,
   "metadata": {},
   "outputs": [
    {
     "name": "stdout",
     "output_type": "stream",
     "text": [
      "p_value =  0.018783342602787356\n",
      "Reject Null Hypothesis\n"
     ]
    }
   ],
   "source": [
    "p_value = 1.0 - norm.cdf(np.abs(t_score))\n",
    "\n",
    "print(\"p_value = \", p_value)\n",
    "\n",
    "if(p_value < t_critical):\n",
    "    print(\"Reject Null Hypothesis\")\n",
    "else:\n",
    "    print(\"Fail to reject Null Hypothesis\")"
   ]
  }
 ],
 "metadata": {
  "kernelspec": {
   "display_name": "Python 3",
   "language": "python",
   "name": "python3"
  },
  "language_info": {
   "codemirror_mode": {
    "name": "ipython",
    "version": 3
   },
   "file_extension": ".py",
   "mimetype": "text/x-python",
   "name": "python",
   "nbconvert_exporter": "python",
   "pygments_lexer": "ipython3",
   "version": "3.8.5"
  }
 },
 "nbformat": 4,
 "nbformat_minor": 4
}
