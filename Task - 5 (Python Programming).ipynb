{
 "cells": [
  {
   "cell_type": "markdown",
   "metadata": {},
   "source": [
    "# Detect Floating Point Number\n"
   ]
  },
  {
   "cell_type": "code",
   "execution_count": 3,
   "metadata": {},
   "outputs": [
    {
     "name": "stdout",
     "output_type": "stream",
     "text": [
      "4\n",
      "4.000\n",
      "True\n",
      "-1.00\n",
      "True\n",
      "+4.54\n",
      "True\n",
      "SomeRandomStuff\n",
      "False\n"
     ]
    }
   ],
   "source": [
    "import re\n",
    "for p in range(int(input())):\n",
    "    pattern=re.match(r'^[-+]?[0-9]*\\.[0-9]+$',input())\n",
    "    print(bool(pattern))"
   ]
  },
  {
   "cell_type": "markdown",
   "metadata": {},
   "source": [
    "# Re.split()"
   ]
  },
  {
   "cell_type": "code",
   "execution_count": 4,
   "metadata": {},
   "outputs": [
    {
     "name": "stdout",
     "output_type": "stream",
     "text": [
      "100,000,000.000\n",
      "100\n",
      "000\n",
      "000\n",
      "000\n"
     ]
    }
   ],
   "source": [
    "regex_pattern = r\"\\D+\"\n",
    "import re\n",
    "print(\"\\n\".join(re.split(regex_pattern, input())))"
   ]
  },
  {
   "cell_type": "markdown",
   "metadata": {},
   "source": [
    "# Group(), Groups() & Groupdict()"
   ]
  },
  {
   "cell_type": "code",
   "execution_count": 12,
   "metadata": {},
   "outputs": [
    {
     "name": "stdout",
     "output_type": "stream",
     "text": [
      "..12345678910111213141516171820212223\n",
      "1\n"
     ]
    }
   ],
   "source": [
    "import re\n",
    "a=-1\n",
    "p=re.search(r'([a-zA-Z0-9]+)\\1+', input().strip())\n",
    "if p:\n",
    "    print(p.group(1))\n",
    "else:\n",
    "    print(a)"
   ]
  },
  {
   "cell_type": "markdown",
   "metadata": {},
   "source": [
    "# Re.findall() & Re.finditer()"
   ]
  },
  {
   "cell_type": "code",
   "execution_count": 14,
   "metadata": {},
   "outputs": [
    {
     "name": "stdout",
     "output_type": "stream",
     "text": [
      "rabcdeefgyYhFjkIoomnpOeorteeeeet\n",
      "ee\n",
      "Ioo\n",
      "Oeo\n",
      "eeeee\n"
     ]
    }
   ],
   "source": [
    "import re\n",
    "patrn = re.findall(r'(?<=[qwrtypsdfghjklzxcvbnm])([aeiou]{2,})(?=[qwrtypsdfghjklzxcvbnm])',input().strip(), re.IGNORECASE)\n",
    "if patrn:\n",
    "    for i in patrn:\n",
    "        print(i)\n",
    "else:\n",
    "    print(-1)"
   ]
  },
  {
   "cell_type": "markdown",
   "metadata": {},
   "source": [
    "# Re.start() & Re.end()"
   ]
  },
  {
   "cell_type": "code",
   "execution_count": 16,
   "metadata": {},
   "outputs": [
    {
     "name": "stdout",
     "output_type": "stream",
     "text": [
      "aaadaa\n",
      "aa\n",
      "(0, 1)\n",
      "(1, 2)\n",
      "(4, 5)\n"
     ]
    }
   ],
   "source": [
    "import re\n",
    "t=input()\n",
    "p=input()\n",
    "x= list(re.finditer(\"(?=(%s))\"%p,t))\n",
    "if not x:\n",
    "    print((-1,-1))\n",
    "for i in x:\n",
    "    print((i.start(1),i.end(1)-1))"
   ]
  },
  {
   "cell_type": "markdown",
   "metadata": {},
   "source": [
    "# Regex Substitution"
   ]
  },
  {
   "cell_type": "code",
   "execution_count": 2,
   "metadata": {},
   "outputs": [
    {
     "name": "stdout",
     "output_type": "stream",
     "text": [
      "11\n",
      "a = 1\n",
      "a = 1\n",
      "b = input();\n",
      "b = input();\n",
      "if a + b > 0 && a - b < 0:\n",
      "if a + b > 0 and a - b < 0:\n",
      "start()\n",
      "start()\n",
      "elif a*b > 10 || a/b < 1:\n",
      "elif a*b > 10 or a/b < 1:\n",
      "stop()\n",
      "stop()\n",
      "print set(list(a)) | set(list(b))\n",
      "print set(list(a)) | set(list(b))\n",
      "#Note do not change &&& or ||| or & or |\n",
      "#Note do not change &&& or ||| or & or |\n",
      "#Only change those '&&' which have space on both sides.\n",
      "#Only change those '&&' which have space on both sides.\n",
      "#Only change those '|| which have space on both sides.\n",
      "#Only change those '|| which have space on both sides.\n",
      "\n",
      "\n"
     ]
    }
   ],
   "source": [
    "import re\n",
    "def fun(m):\n",
    "    if m.group(1) == '&&':\n",
    "        return 'and'\n",
    "    else:\n",
    "        return 'or'\n",
    "for i in range(int(input())):\n",
    "    print (re.sub(r\"(?<= )(\\|\\||&&)(?= )\", fun, input()))"
   ]
  },
  {
   "cell_type": "markdown",
   "metadata": {},
   "source": [
    "# Validating Roman Numerals"
   ]
  },
  {
   "cell_type": "code",
   "execution_count": 3,
   "metadata": {},
   "outputs": [
    {
     "name": "stdout",
     "output_type": "stream",
     "text": [
      "CDXXI\n",
      "True\n"
     ]
    }
   ],
   "source": [
    "import re\n",
    "th = 'M{0,3}'\n",
    "hun = '(C[MD]|D?C{0,3})'\n",
    "ten = '(X[CL]|L?X{0,3})'\n",
    "digi = '(I[VX]|V?I{0,3})'\n",
    "regex_pattern = r\"%s%s%s%s$\" % (th, hun, ten, digi)\n",
    "import re\n",
    "print(str(bool(re.match(regex_pattern, input()))))"
   ]
  },
  {
   "cell_type": "markdown",
   "metadata": {},
   "source": [
    "# Validating phone numbers"
   ]
  },
  {
   "cell_type": "code",
   "execution_count": 4,
   "metadata": {},
   "outputs": [
    {
     "name": "stdout",
     "output_type": "stream",
     "text": [
      "2\n",
      "9587456281\n",
      "YES\n",
      "1252478965\n",
      "NO\n"
     ]
    }
   ],
   "source": [
    "import re\n",
    "target_siz = int(input())\n",
    "for x in range(target_siz):\n",
    "    if re.match(r'^[987]\\d{9}$',input()):\n",
    "        print(\"YES\")\n",
    "    else:\n",
    "        print(\"NO\")"
   ]
  },
  {
   "cell_type": "markdown",
   "metadata": {},
   "source": [
    "# Validating and Parsing Email Addresses"
   ]
  },
  {
   "cell_type": "code",
   "execution_count": 7,
   "metadata": {},
   "outputs": [
    {
     "name": "stdout",
     "output_type": "stream",
     "text": [
      "2\n",
      "DEXTER <dexter@hotmail.com>\n",
      "DEXTER <dexter@hotmail.com>\n",
      "VIRUS <virus!@variable.:p>\n"
     ]
    }
   ],
   "source": [
    "import re\n",
    "l = int(input())\n",
    "for p in range(l):\n",
    "    x1, y1 = input().split(' ')\n",
    "    m1 = re.match(r'<[A-Za-z](\\w|-|\\.|\\_)+@[A-Za-z]+\\.[A-Za-z]{1,3}>', y1)\n",
    "    if m1:\n",
    "        print(x1,y1)"
   ]
  },
  {
   "cell_type": "markdown",
   "metadata": {},
   "source": [
    "# Hex Color Code"
   ]
  },
  {
   "cell_type": "code",
   "execution_count": 1,
   "metadata": {},
   "outputs": [
    {
     "name": "stdout",
     "output_type": "stream",
     "text": [
      "11\n",
      "#BED {     color: #FfFdF8; background-color:#aef;     font-size: 123px;     background: -webkit-linear-gradient(top, #f9f9f9, #fff); } #Cab {     background-color: #ABC;     border: 2px dashed #fff; }   \n",
      "#FfFdF8\n",
      "#aef\n",
      "#f9f9f9\n",
      "#fff\n",
      "#Cab\n",
      "#ABC\n",
      "#fff\n"
     ]
    }
   ],
   "source": [
    "import re\n",
    "for x in range(int(input())):\n",
    "    c=r':?.(#[0-9a-fA-F]{6}|#[0-9a-fA-F]{3})'\n",
    "    p = re.findall(c,input())\n",
    "    if p:\n",
    "        print(*p, sep='\\n')\n",
    "        #break to apply in jupyter"
   ]
  },
  {
   "cell_type": "markdown",
   "metadata": {},
   "source": [
    "# HTML Parser - Part 1"
   ]
  },
  {
   "cell_type": "code",
   "execution_count": 4,
   "metadata": {},
   "outputs": [
    {
     "name": "stdout",
     "output_type": "stream",
     "text": [
      "2\n",
      "<html><head><title>HTML Parser - I</title></head>\n",
      "Start : html\n",
      "Start : head\n",
      "Start : title\n",
      "End   : title\n",
      "End   : head\n",
      "<body data-modal-target class='1'><h1>HackerRank</h1><br /></body></html>\n",
      "Start : body\n",
      "-> data-modal-target > None\n",
      "-> class > 1\n",
      "Start : h1\n",
      "End   : h1\n",
      "Empty : br\n",
      "End   : body\n",
      "End   : html\n"
     ]
    }
   ],
   "source": [
    "from html.parser import HTMLParser\n",
    "def read_int(): return int(input())\n",
    "def read_int_words(): return map(int,input().split())\n",
    "def p(a):\n",
    "    for q in a:\n",
    "        (l,m) = q\n",
    "        print(\"->\",l.strip(),\">\",str(m).strip())\n",
    "class MyHTMLParser(HTMLParser):\n",
    "    def handle_starttag(self, tag, att):\n",
    "        print(\"Start :\", tag.strip())\n",
    "        p(att)\n",
    "    def handle_endtag(self, tag): print(\"End   :\",tag.strip())\n",
    "    def handle_startendtag(self, tag, att):\n",
    "        print(\"Empty :\", tag.strip())\n",
    "        p(att)\n",
    "w = int(input())\n",
    "parser = MyHTMLParser()\n",
    "for i in range(w): \n",
    "    parser.feed(input())"
   ]
  },
  {
   "cell_type": "markdown",
   "metadata": {},
   "source": [
    "# HTML Parser - Part 2"
   ]
  },
  {
   "cell_type": "code",
   "execution_count": 10,
   "metadata": {},
   "outputs": [
    {
     "name": "stdout",
     "output_type": "stream",
     "text": [
      "4\n",
      "<!--[if IE 9]>IE9-specific content\n",
      "<![endif]-->\n",
      "<div> Welcome to HackerRank</div>\n",
      "<!--[if IE 9]>IE9-specific content<![endif]-->\n",
      ">>> Multi-line Comment\n",
      "[if IE 9]>IE9-specific content\n",
      "<![endif]\n",
      ">>> Data\n",
      " Welcome to HackerRank\n",
      ">>> Single-line Comment\n",
      "[if IE 9]>IE9-specific content<![endif]\n"
     ]
    }
   ],
   "source": [
    "from html.parser import HTMLParser\n",
    "class MyHTMLParser(HTMLParser):\n",
    "    def handle_comment(self, data):\n",
    "        pf = '\\n' in data and 'Multi-line Comment' or 'Single-line Comment'\n",
    "        print('>>> {0}\\n{1}'.format(pf, data))\n",
    "    def handle_data(self, data):\n",
    "        if data != '\\n':\n",
    "            print('>>> Data\\n{0}'.format(data))\n",
    "html = \"\"\n",
    "for i in range(int(input())):\n",
    "    html += input().rstrip()\n",
    "    html += '\\n'\n",
    "parser = MyHTMLParser()\n",
    "parser.feed(html)\n",
    "parser.close()"
   ]
  },
  {
   "cell_type": "markdown",
   "metadata": {},
   "source": [
    "# Detect HTML Tags, Attributes and Attribute Values"
   ]
  },
  {
   "cell_type": "code",
   "execution_count": 11,
   "metadata": {},
   "outputs": [
    {
     "name": "stdout",
     "output_type": "stream",
     "text": [
      "9\n",
      "<head>\n",
      "head\n",
      "<title>HTML</title>\n",
      "title\n",
      "<object type=\"application/x-flash\"\n",
      "data=\"your-file.swf\"\n",
      "width=\"0\" height=\"0\">\n",
      "object\n",
      "-> type > application/x-flash\n",
      "-> data > your-file.swf\n",
      "-> width > 0\n",
      "-> height > 0\n",
      "<!-- <param name=\"movie\" value=\"your-file.swf\" /> -->\n",
      "<param name=\"quality\" value=\"high\"/>\n",
      "param\n",
      "-> name > quality\n",
      "-> value > high\n",
      "</object>\n",
      "\n"
     ]
    }
   ],
   "source": [
    "from html.parser import HTMLParser\n",
    "class MyHTMLParser(HTMLParser):\n",
    "    def handle_starttag(self, tg, att):\n",
    "        print(tg)\n",
    "        for el in att:\n",
    "            print('->',el[0],'>',el[1])\n",
    "parser = MyHTMLParser()\n",
    "for y in range(int(input())):\n",
    "    parser.feed(input())"
   ]
  },
  {
   "cell_type": "markdown",
   "metadata": {},
   "source": [
    "# Validating UID"
   ]
  },
  {
   "cell_type": "code",
   "execution_count": 13,
   "metadata": {},
   "outputs": [
    {
     "name": "stdout",
     "output_type": "stream",
     "text": [
      "2\n",
      "B1CD102354\n",
      "Invalid\n",
      "B1CDEF2354\n",
      "Valid\n"
     ]
    }
   ],
   "source": [
    "from re import *\n",
    "condi = compile(r'^(?!.*(.)\\1)(?=.*[0-9]{3})(?=.*[A-Z]{2})[a-zA-Z0-9]{10}$')\n",
    "for i in range(int(input())):\n",
    "    res = ''.join(sorted(input()))\n",
    "    matchn = search(condi, res)\n",
    "    if matchn:\n",
    "        print('Valid')\n",
    "    else:\n",
    "        print('Invalid')"
   ]
  },
  {
   "cell_type": "markdown",
   "metadata": {},
   "source": [
    "# Validating Credit Card Numbers"
   ]
  },
  {
   "cell_type": "code",
   "execution_count": 14,
   "metadata": {},
   "outputs": [
    {
     "name": "stdout",
     "output_type": "stream",
     "text": [
      "6\n",
      "4123456789123456\n",
      "Valid\n",
      "5123-4567-8912-3456\n",
      "Valid\n",
      "61234-567-8912-3456\n",
      "Invalid\n",
      "4123356789123456\n",
      "Valid\n",
      "5133-3367-8912-3456\n",
      "Invalid\n",
      "5123 - 3567 - 8912 - 3456\n",
      "Invalid\n"
     ]
    }
   ],
   "source": [
    "import re\n",
    "for i in range(int(input())):\n",
    "    n = input().strip()\n",
    "    match1 = re.search(r'^[456]\\d{3}(-?)\\d{4}\\1\\d{4}\\1\\d{4}$',n)\n",
    "    if match1:\n",
    "        pstr=\"\".join(match1.group(0).split('-'))\n",
    "        match2 = re.search(r'(\\d)\\1{3,}',pstr)\n",
    "        if match2:\n",
    "            print('Invalid')\n",
    "        else :\n",
    "            print('Valid')\n",
    "    else:\n",
    "        print('Invalid')"
   ]
  },
  {
   "cell_type": "markdown",
   "metadata": {},
   "source": [
    "# Validating Postal Codes"
   ]
  },
  {
   "cell_type": "code",
   "execution_count": 20,
   "metadata": {},
   "outputs": [
    {
     "name": "stdout",
     "output_type": "stream",
     "text": [
      "110000\n",
      "False\n"
     ]
    }
   ],
   "source": [
    "a=\"^[1-9][0-9]{5}$\"\n",
    "regex_integer_in_range = r\"a\" \n",
    "b=\"(\\d)(?=.\\1\"\n",
    "regex_alternating_repetitive_digit_pair = r\"b\"\n",
    "import re\n",
    "P = input()\n",
    "print (bool(re.match(regex_integer_in_range, P)) \n",
    "and len(re.findall(regex_alternating_repetitive_digit_pair, P)) < 2)"
   ]
  },
  {
   "cell_type": "markdown",
   "metadata": {},
   "source": [
    "# Matrix Script\n"
   ]
  },
  {
   "cell_type": "code",
   "execution_count": 25,
   "metadata": {},
   "outputs": [
    {
     "name": "stdout",
     "output_type": "stream",
     "text": [
      "7 3\n",
      "Tsi\n",
      "h%x\n",
      "i #\n",
      "sM\n",
      "$a\n",
      "#t%\n",
      "ir!\n",
      "This is Matr\n"
     ]
    }
   ],
   "source": [
    "import math\n",
    "import os\n",
    "import random\n",
    "import re\n",
    "import sys\n",
    "\n",
    "first_multiple_input = input().rstrip().split()\n",
    "\n",
    "p = int(first_multiple_input[0])\n",
    "\n",
    "q= int(first_multiple_input[1])\n",
    "\n",
    "matrix = []\n",
    "\n",
    "for _ in range(p):\n",
    "    matrix_item = input()\n",
    "    matrix.append(matrix_item)\n",
    "matrix = list(zip(*matrix))\n",
    "\n",
    "sample = str()\n",
    "\n",
    "for words in matrix:\n",
    "    for char in words:\n",
    "        sample += char\n",
    "\n",
    "print(re.sub(r'(?<=\\w)([^\\w\\d]+)(?=\\w)', ' ', sample))\n"
   ]
  }
 ],
 "metadata": {
  "kernelspec": {
   "display_name": "Python 3",
   "language": "python",
   "name": "python3"
  },
  "language_info": {
   "codemirror_mode": {
    "name": "ipython",
    "version": 3
   },
   "file_extension": ".py",
   "mimetype": "text/x-python",
   "name": "python",
   "nbconvert_exporter": "python",
   "pygments_lexer": "ipython3",
   "version": "3.8.5"
  }
 },
 "nbformat": 4,
 "nbformat_minor": 4
}
