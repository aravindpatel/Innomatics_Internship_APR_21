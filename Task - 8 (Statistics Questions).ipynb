{
 "cells": [
  {
   "cell_type": "markdown",
   "metadata": {},
   "source": [
    "# Binomial Distribution I\n"
   ]
  },
  {
   "cell_type": "code",
   "execution_count": 1,
   "metadata": {},
   "outputs": [
    {
     "name": "stdout",
     "output_type": "stream",
     "text": [
      "1.09 1\n",
      "0.696\n"
     ]
    }
   ],
   "source": [
    "def factorial(n):\n",
    "    return 1 if n == 0 else n*factorial(n-1)\n",
    "def combin(n, x):\n",
    "    return factorial(n) / (factorial(x) * factorial(n-x))\n",
    "def b(x, n, p):\n",
    "    return combin(n, x) * p**x * (1-p)**(n-x)\n",
    "e, f = list(map(float, input().split(' ')))\n",
    "od = e / f\n",
    "ls = []\n",
    "# Here the range is 3 to 6 so we consider range(3,7)\n",
    "for i in range(3,7):\n",
    "    ls.append(b(i, 6, od / (1 + od)))\n",
    "print(round(sum(ls), 3))"
   ]
  },
  {
   "cell_type": "markdown",
   "metadata": {},
   "source": [
    "# Binomial Distribution II\n"
   ]
  },
  {
   "cell_type": "code",
   "execution_count": 3,
   "metadata": {},
   "outputs": [
    {
     "name": "stdout",
     "output_type": "stream",
     "text": [
      "12 10\n",
      "0.891\n",
      "0.342\n"
     ]
    }
   ],
   "source": [
    "def factorial(n):\n",
    "    return 1 if n == 0 else n*factorial(n-1)\n",
    "def combin(n,x):\n",
    "    return factorial(n) / (factorial(x) * factorial(n-x))\n",
    "def e(x,n,g):\n",
    "    return combin(n,x)*g**x*(1-g)**(n-x)\n",
    "g,n = list(map(int, input().split(\" \")))\n",
    "b,c=3,2\n",
    "print(round(sum([e(i,n,g/100) for i in range(b)]), b))\n",
    "print(round(sum([e(i,n,g/100) for i in range(c,n+1)]),b))"
   ]
  },
  {
   "cell_type": "markdown",
   "metadata": {},
   "source": [
    "\n",
    "# Normal Distribution 1\n"
   ]
  },
  {
   "cell_type": "code",
   "execution_count": 6,
   "metadata": {},
   "outputs": [
    {
     "name": "stdout",
     "output_type": "stream",
     "text": [
      "20 2\n",
      "0.401\n",
      "0.341\n"
     ]
    }
   ],
   "source": [
    "from math import erf\n",
    "mn, sd = [float(x) for x in input().split()]\n",
    "def dist(x):\n",
    "    return 0.5 *(1 + erf((x - mn)/(sd * (2 ** 0.5))))\n",
    "# to consider less than 19.5\n",
    "print('{:.3f}'.format(dist(19.5)))\n",
    "# to consider between 20and22\n",
    "print('{:.3f}'.format(dist(22)-dist(20)))"
   ]
  },
  {
   "cell_type": "markdown",
   "metadata": {},
   "source": [
    "\n",
    "\n",
    "# Normal Distribution 2\n"
   ]
  },
  {
   "cell_type": "code",
   "execution_count": 9,
   "metadata": {},
   "outputs": [
    {
     "name": "stdout",
     "output_type": "stream",
     "text": [
      "15.87\n",
      "84.13\n",
      "15.87\n"
     ]
    }
   ],
   "source": [
    "import math\n",
    "m,sd =70,10\n",
    "cd = lambda x:0.5*(1 + math.erf((x - m)/(sd*(2**0.5))))\n",
    "print('{:.2f}'.format((1-cd(80))*100))\n",
    "print('{:.2f}'.format((1-cd(60))*100))\n",
    "print('{:.2f}'.format(cd(60)*100))"
   ]
  },
  {
   "cell_type": "markdown",
   "metadata": {},
   "source": [
    "# The central limiting theorem 1"
   ]
  },
  {
   "cell_type": "code",
   "execution_count": 10,
   "metadata": {},
   "outputs": [
    {
     "name": "stdout",
     "output_type": "stream",
     "text": [
      "9800\n",
      "49\n",
      "205\n",
      "15\n",
      "0.0098\n"
     ]
    }
   ],
   "source": [
    "from math import erf\n",
    "x = int(input())\n",
    "n = int(input())\n",
    "mn = int(input())\n",
    "sig = int(input())\n",
    "new_mean=n*mn\n",
    "new_sigma=n**0.5*sig\n",
    "def fun(x, mn, sig):\n",
    "    Z = (x -mn)/sig\n",
    "    return 0.5*(1+erf(Z/2**0.5))\n",
    "sol=fun(x,new_mean,new_sigma)\n",
    "print(round(sol,4))"
   ]
  },
  {
   "cell_type": "markdown",
   "metadata": {},
   "source": [
    "# The central limiting theorem 2"
   ]
  },
  {
   "cell_type": "code",
   "execution_count": 11,
   "metadata": {},
   "outputs": [
    {
     "name": "stdout",
     "output_type": "stream",
     "text": [
      "250\n",
      "100\n",
      "2.4\n",
      "2.0\n",
      "0.6915\n"
     ]
    }
   ],
   "source": [
    "from math import erf\n",
    "tkt =int(input())\n",
    "n =int(input())\n",
    "mn=float(input())\n",
    "sd=float(input())\n",
    "new_mean=n*mn\n",
    "new_sd=n**0.5*sd\n",
    "def fun(t,mean,sigma):\n",
    "    Z=(t - mean)/sigma\n",
    "    return 0.5*(1+erf(Z/2**0.5))\n",
    "sol = fun(tkt,new_mean,new_sd)\n",
    "print(round(sol,4))"
   ]
  },
  {
   "cell_type": "markdown",
   "metadata": {},
   "source": [
    "# The central limiting theorem 3"
   ]
  },
  {
   "cell_type": "code",
   "execution_count": 12,
   "metadata": {},
   "outputs": [
    {
     "name": "stdout",
     "output_type": "stream",
     "text": [
      "100\n",
      "500\n",
      "80\n",
      ".95\n",
      "1.96\n",
      "484.32\n",
      "515.68\n"
     ]
    }
   ],
   "source": [
    "from math import sqrt\n",
    "k = int(input())\n",
    "mn = int(input())\n",
    "sd = int(input())\n",
    "intrvl = float(input())\n",
    "z = float(input())\n",
    "print(round(mn-(sd/sqrt(k))* z,2))\n",
    "print(round(mn+(sd/sqrt(k))* z,2))"
   ]
  },
  {
   "cell_type": "markdown",
   "metadata": {},
   "source": [
    "# Pearson Correlation Coefficient I"
   ]
  },
  {
   "cell_type": "code",
   "execution_count": 13,
   "metadata": {},
   "outputs": [
    {
     "name": "stdout",
     "output_type": "stream",
     "text": [
      "10\n",
      "10 9.8 8 7.8 7.7 7 6 5 4 2\n",
      "200 44 32 24 22 17 15 12 8 4\n",
      "1.085\n"
     ]
    }
   ],
   "source": [
    "n = int(input())\n",
    "p = list(map(float, input().strip().split()))\n",
    "q = list(map(float, input().strip().split()))\n",
    "p_mean = sum(p) / n\n",
    "q_mean = sum(q) / n\n",
    "p_std = (sum([(i - p_mean)**2 for i in p]) / n)**0.5\n",
    "q_std = (sum([(i - q_mean)**2 for i in p]) / n)**0.5\n",
    "cov = sum([(p[i] - p_mean) * (q[i] -q_mean) for i in range(n)])\n",
    "corr = cov / (n * p_std * q_std)\n",
    "print(round(corr, 3))"
   ]
  },
  {
   "cell_type": "markdown",
   "metadata": {},
   "source": [
    "# Least square\n"
   ]
  },
  {
   "cell_type": "code",
   "execution_count": 14,
   "metadata": {},
   "outputs": [
    {
     "name": "stdout",
     "output_type": "stream",
     "text": [
      "95 85\n",
      "85 95\n",
      "80 70\n",
      "70 65\n",
      "60 70\n",
      "78.288\n"
     ]
    }
   ],
   "source": [
    "p, q = [], []\n",
    "for j in range(5):\n",
    "    i = input().split()\n",
    "    p.append(int(i[0]))\n",
    "    q.append(int(i[1]))\n",
    "n = len(p)\n",
    "sum_x = sum(p)\n",
    "sum_x_sqr = sum_x**2\n",
    "sqrx_sum = sum([x_i**2 for x_i in p])\n",
    "sum_y = sum(q)\n",
    "sum_prod_xy = 0\n",
    "for x_i, y_i in zip(p, q):\n",
    "    sum_prod_xy += (x_i * y_i)\n",
    "an1 = (n * sum_prod_xy - sum_x * sum_y) / (n * sqrx_sum - sum_x_sqr)\n",
    "y_mean = sum_y/n\n",
    "x_mean = sum_x/n\n",
    "an2 = y_mean - an1 * x_mean\n",
    "testx = 80\n",
    "testy = an2 + an1 * testx\n",
    "print(\"{:.3f}\".format(testy))"
   ]
  },
  {
   "cell_type": "markdown",
   "metadata": {},
   "source": [
    "# Multiple liner regression"
   ]
  },
  {
   "cell_type": "code",
   "execution_count": 15,
   "metadata": {},
   "outputs": [
    {
     "name": "stdout",
     "output_type": "stream",
     "text": [
      "2 7\n",
      "0.18 0.89 109.85\n",
      "1.0 0.26 155.72\n",
      "0.92 0.11 137.66\n",
      "0.07 0.37 76.17\n",
      "0.85 0.16 139.75\n",
      "0.99 0.41 162.6\n",
      "0.87 0.47 151.77\n",
      "4\n",
      "0.49 0.18\n",
      "0.57 0.83\n",
      "0.56 0.64\n",
      "0.76 0.18\n",
      "105.21\n",
      "142.67\n",
      "132.94\n",
      "129.7\n"
     ]
    }
   ],
   "source": [
    "import numpy as np\n",
    "m, n = [int(i) for i in input().strip().split(' ')]\n",
    "P = []\n",
    "Q = []\n",
    "for i in range(n):\n",
    "    dt = input().strip().split(' ')\n",
    "    P.append(dt[:m])\n",
    "    Q.append(dt[m:])\n",
    "q = int(input().strip()) \n",
    "P_new = []\n",
    "for x in range(q):\n",
    "    P_new.append(input().strip().split(' '))\n",
    "P = np.array(P, float)\n",
    "Q = np.array(Q, float)\n",
    "P_new = np.array(P_new, float)\n",
    "P_R = P-np.mean(P, axis=0)\n",
    "Q_R = Q-np.mean(Q)\n",
    "beta = np.dot(np.linalg.inv(np.dot(P_R.T, P_R)), np.dot(P_R.T, Q_R))\n",
    "X_R = P_new-np.mean(P, axis=0)\n",
    "Y_R = np.dot(X_R, beta)\n",
    "Y_n = Y_R + np.mean(Q)\n",
    "for i in Y_n:\n",
    "    print(round(float(i), 2))\n"
   ]
  }
 ],
 "metadata": {
  "kernelspec": {
   "display_name": "Python 3",
   "language": "python",
   "name": "python3"
  },
  "language_info": {
   "codemirror_mode": {
    "name": "ipython",
    "version": 3
   },
   "file_extension": ".py",
   "mimetype": "text/x-python",
   "name": "python",
   "nbconvert_exporter": "python",
   "pygments_lexer": "ipython3",
   "version": "3.8.5"
  }
 },
 "nbformat": 4,
 "nbformat_minor": 4
}
